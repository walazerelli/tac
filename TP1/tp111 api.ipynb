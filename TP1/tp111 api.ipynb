{
 "cells": [
  {
   "cell_type": "markdown",
   "metadata": {},
   "source": [
    "# APIs: requêtes HTTP"
   ]
  },
  {
   "cell_type": "markdown",
   "metadata": {},
   "source": [
    "## Imports"
   ]
  },
  {
   "cell_type": "code",
   "execution_count": 3,
   "metadata": {},
   "outputs": [
    {
     "name": "stdout",
     "output_type": "stream",
     "text": [
      "Erreur 403: {\"message\":\"You are not subscribed to this API.\"}\n"
     ]
    }
   ],
   "source": [
    "\n",
    "import requests\n",
    "import json\n",
    "\n",
    "\n",
    "url = \"https://nlp-translation.p.rapidapi.com/v1/translate\"\n",
    "\n",
    "\n",
    "api_key = \"ta_clé_api_rapide\"\n",
    "\n",
    "\n",
    "headers = {\n",
    "    \"X-RapidAPI-Key\": api_key,\n",
    "    \"X-RapidAPI-Host\": \"nlp-translation.p.rapidapi.com\"\n",
    "}\n",
    "\n",
    "\n",
    "text_to_translate = \"Tesla, Inc. designs, develops, manufactures, leases, and sells electric vehicles, and energy generation and storage systems in the United States, China, and internationally.\"\n",
    "source_lang = \"en\"  \n",
    "target_lang = \"fr\"  \n",
    "\n",
    "\n",
    "query_params = {\n",
    "    \"text\": text_to_translate,\n",
    "    \"from\": source_lang,\n",
    "    \"to\": target_lang,\n",
    "    \"protected_words\": \"China\"  \n",
    "}\n",
    "\n",
    "\n",
    "response = requests.get(url, headers=headers, params=query_params)\n",
    "\n",
    "\n",
    "if response.status_code == 200:\n",
    "  \n",
    "    data = response.json()\n",
    "    \n",
    "    \n",
    "    translated_text = data['translated_text'][target_lang]  \n",
    "    original_text = data['original_text']  \n",
    "    protected_words = data['protected_words']  \n",
    "    translated_characters = data['translated_characters']  \n",
    "    \n",
    "    \n",
    "    print(\"Texte original :\", original_text)\n",
    "    print(\"Texte traduit :\", translated_text)\n",
    "    print(\"Mots protégés :\", protected_words)\n",
    "    print(\"Caractères traduits :\", translated_characters)\n",
    "else:\n",
    "    print(f\"Erreur {response.status_code}: {response.text}\")\n"
   ]
  }
 ],
 "metadata": {
  "kernelspec": {
   "display_name": ".venv",
   "language": "python",
   "name": "python3"
  },
  "language_info": {
   "codemirror_mode": {
    "name": "ipython",
    "version": 3
   },
   "file_extension": ".py",
   "mimetype": "text/x-python",
   "name": "python",
   "nbconvert_exporter": "python",
   "pygments_lexer": "ipython3",
   "version": "3.13.0"
  }
 },
 "nbformat": 4,
 "nbformat_minor": 4
}
