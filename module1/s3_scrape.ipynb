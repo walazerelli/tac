{
 "cells": [
  {
   "cell_type": "markdown",
   "metadata": {},
   "source": [
    "# Scraping: récupération de la page d'accueil du journal Le Soir\n",
    "\n",
    "Dans ce notebook, nous créons un robot qui va ouvrir la page d'accueil du site du journal [Le Soir](https://www.lesoir.be/) et récupérer le titre de tous les articles du jour et les stocker dans un fichier csv."
   ]
  },
  {
   "cell_type": "markdown",
   "metadata": {},
   "source": [
    "## Imports"
   ]
  },
  {
   "cell_type": "code",
   "execution_count": 2,
   "metadata": {},
   "outputs": [],
   "source": [
    "import os\n",
    "import re\n",
    "import time\n",
    "import requests\n",
    "from bs4 import BeautifulSoup\n",
    "import pandas as pd"
   ]
  },
  {
   "cell_type": "markdown",
   "metadata": {},
   "source": [
    "## Récupération de tous les articles de la page d'accueil\n",
    "\n"
   ]
  },
  {
   "cell_type": "code",
   "execution_count": 5,
   "metadata": {},
   "outputs": [
    {
     "name": "stdout",
     "output_type": "stream",
     "text": [
      "Téléchargement de tp1_pdfs/KB_JB230_1892-08-07_01-0003.pdf...\n",
      "tp1_pdfs/KB_JB230_1892-08-07_01-0003.pdf téléchargé avec succès.\n",
      "Téléchargement de tp1_pdfs/KB_JB427_1920-01-10_01-00004.pdf...\n",
      "tp1_pdfs/KB_JB427_1920-01-10_01-00004.pdf téléchargé avec succès.\n",
      "Téléchargement de tp1_pdfs/KB_JB555_1836-02-08_01-00002.pdf...\n",
      "tp1_pdfs/KB_JB555_1836-02-08_01-00002.pdf téléchargé avec succès.\n",
      "Téléchargement de tp1_pdfs/KB_JB638_1860-05-21_01-00002.pdf...\n",
      "tp1_pdfs/KB_JB638_1860-05-21_01-00002.pdf téléchargé avec succès.\n",
      "Téléchargement de tp1_pdfs/KB_JB773_1918-11-30_01-00002.pdf...\n",
      "tp1_pdfs/KB_JB773_1918-11-30_01-00002.pdf téléchargé avec succès.\n",
      "Téléchargement de tp1_pdfs/KB_JB838_1887-12-28_01-00003.pdf...\n",
      "tp1_pdfs/KB_JB838_1887-12-28_01-00003.pdf téléchargé avec succès.\n",
      "Téléchargement de tp1_pdfs/KB_JB230_1903-10-16_01-0002.pdf...\n",
      "tp1_pdfs/KB_JB230_1903-10-16_01-0002.pdf téléchargé avec succès.\n",
      "Téléchargement de tp1_pdfs/KB_JB427_1933-01-04_01-00003.pdf...\n",
      "tp1_pdfs/KB_JB427_1933-01-04_01-00003.pdf téléchargé avec succès.\n",
      "Téléchargement de tp1_pdfs/KB_JB555_1899-01-19_01-00003.pdf...\n",
      "tp1_pdfs/KB_JB555_1899-01-19_01-00003.pdf téléchargé avec succès.\n",
      "Téléchargement de tp1_pdfs/KB_JB638_1902-12-20_01-00002.pdf...\n",
      "tp1_pdfs/KB_JB638_1902-12-20_01-00002.pdf téléchargé avec succès.\n",
      "Téléchargement de tp1_pdfs/KB_JB773_1933-10-07_01-00007.pdf...\n",
      "tp1_pdfs/KB_JB773_1933-10-07_01-00007.pdf téléchargé avec succès.\n",
      "Téléchargement de tp1_pdfs/KB_JB838_1911-08-03_01-00006.pdf...\n",
      "tp1_pdfs/KB_JB838_1911-08-03_01-00006.pdf téléchargé avec succès.\n",
      "Téléchargement de tp1_pdfs/KB_JB230_1913-07-05_01-0001.pdf...\n",
      "tp1_pdfs/KB_JB230_1913-07-05_01-0001.pdf téléchargé avec succès.\n",
      "Téléchargement de tp1_pdfs/KB_JB427_1949-07-18_01-00008.pdf...\n",
      "tp1_pdfs/KB_JB427_1949-07-18_01-00008.pdf téléchargé avec succès.\n",
      "Téléchargement de tp1_pdfs/KB_JB555_1940-03-01_01-00004.pdf...\n",
      "tp1_pdfs/KB_JB555_1940-03-01_01-00004.pdf téléchargé avec succès.\n",
      "Téléchargement de tp1_pdfs/KB_JB638_1946-07-18_01-00003.pdf...\n",
      "tp1_pdfs/KB_JB638_1946-07-18_01-00003.pdf téléchargé avec succès.\n",
      "Téléchargement de tp1_pdfs/KB_JB773_1950-07-22_01-00010.pdf...\n",
      "tp1_pdfs/KB_JB773_1950-07-22_01-00010.pdf téléchargé avec succès.\n",
      "Téléchargement de tp1_pdfs/KB_JB838_1943-09-04_01-00002.pdf...\n",
      "tp1_pdfs/KB_JB838_1943-09-04_01-00002.pdf téléchargé avec succès.\n",
      "Téléchargement de tp1_pdfs/KB_JB258_1884-09-03_01-0003.pdf...\n",
      "tp1_pdfs/KB_JB258_1884-09-03_01-0003.pdf téléchargé avec succès.\n",
      "Téléchargement de tp1_pdfs/KB_JB449_1846-05-30_01-00002.pdf...\n",
      "tp1_pdfs/KB_JB449_1846-05-30_01-00002.pdf téléchargé avec succès.\n",
      "Téléchargement de tp1_pdfs/KB_JB567_1857-02-02_01-00003.pdf...\n",
      "tp1_pdfs/KB_JB567_1857-02-02_01-00003.pdf téléchargé avec succès.\n",
      "Téléchargement de tp1_pdfs/KB_JB685_1894-05-14_01-0003.pdf...\n",
      "tp1_pdfs/KB_JB685_1894-05-14_01-0003.pdf téléchargé avec succès.\n",
      "Téléchargement de tp1_pdfs/KB_JB835_1911-04-24_01-00004.pdf...\n",
      "tp1_pdfs/KB_JB835_1911-04-24_01-00004.pdf téléchargé avec succès.\n",
      "Téléchargement de tp1_pdfs/KB_JB92_1860-02-09_01-00003.pdf...\n",
      "tp1_pdfs/KB_JB92_1860-02-09_01-00003.pdf téléchargé avec succès.\n",
      "Téléchargement de tp1_pdfs/KB_JB258_1894-12-09_01-0003.pdf...\n",
      "tp1_pdfs/KB_JB258_1894-12-09_01-0003.pdf téléchargé avec succès.\n",
      "Téléchargement de tp1_pdfs/KB_JB449_1912-01-04_01-00003.pdf...\n",
      "tp1_pdfs/KB_JB449_1912-01-04_01-00003.pdf téléchargé avec succès.\n",
      "Téléchargement de tp1_pdfs/KB_JB567_1892-01-03_01-00005.pdf...\n",
      "tp1_pdfs/KB_JB567_1892-01-03_01-00005.pdf téléchargé avec succès.\n",
      "Téléchargement de tp1_pdfs/KB_JB685_1903-01-18_01-0002.pdf...\n",
      "tp1_pdfs/KB_JB685_1903-01-18_01-0002.pdf téléchargé avec succès.\n",
      "Téléchargement de tp1_pdfs/KB_JB835_1930-04-08_01-00006.pdf...\n",
      "tp1_pdfs/KB_JB835_1930-04-08_01-00006.pdf téléchargé avec succès.\n",
      "Téléchargement de tp1_pdfs/KB_JB92_1873-02-06_01-00002.pdf...\n",
      "tp1_pdfs/KB_JB92_1873-02-06_01-00002.pdf téléchargé avec succès.\n",
      "Téléchargement de tp1_pdfs/KB_JB258_1906-01-09_01-0002.pdf...\n",
      "tp1_pdfs/KB_JB258_1906-01-09_01-0002.pdf téléchargé avec succès.\n",
      "Téléchargement de tp1_pdfs/KB_JB449_1947-08-29_01-00003.pdf...\n",
      "tp1_pdfs/KB_JB449_1947-08-29_01-00003.pdf téléchargé avec succès.\n",
      "Téléchargement de tp1_pdfs/KB_JB567_1924-08-30_01-00003.pdf...\n",
      "tp1_pdfs/KB_JB567_1924-08-30_01-00003.pdf téléchargé avec succès.\n",
      "Téléchargement de tp1_pdfs/KB_JB685_1913-06-07_01-0006.pdf...\n",
      "tp1_pdfs/KB_JB685_1913-06-07_01-0006.pdf téléchargé avec succès.\n",
      "Téléchargement de tp1_pdfs/KB_JB835_1949-09-18_01-00004.pdf...\n",
      "tp1_pdfs/KB_JB835_1949-09-18_01-00004.pdf téléchargé avec succès.\n",
      "Téléchargement de tp1_pdfs/KB_JB92_1885-09-29_01-00002.pdf...\n",
      "tp1_pdfs/KB_JB92_1885-09-29_01-00002.pdf téléchargé avec succès.\n",
      "Téléchargement de tp1_pdfs/KB_JB421_1899-05-15_01-00003.pdf...\n",
      "tp1_pdfs/KB_JB421_1899-05-15_01-00003.pdf téléchargé avec succès.\n",
      "Téléchargement de tp1_pdfs/KB_JB494_1853-10-30_01-0002.pdf...\n",
      "tp1_pdfs/KB_JB494_1853-10-30_01-0002.pdf téléchargé avec succès.\n",
      "Téléchargement de tp1_pdfs/KB_JB572_1850-03-15_01-00003.pdf...\n",
      "tp1_pdfs/KB_JB572_1850-03-15_01-00003.pdf téléchargé avec succès.\n",
      "Téléchargement de tp1_pdfs/KB_JB729_1895-10-08_01-00003.pdf...\n",
      "tp1_pdfs/KB_JB729_1895-10-08_01-00003.pdf téléchargé avec succès.\n",
      "Téléchargement de tp1_pdfs/KB_JB837_1886-12-28_01-00002.pdf...\n",
      "tp1_pdfs/KB_JB837_1886-12-28_01-00002.pdf téléchargé avec succès.\n",
      "Téléchargement de tp1_pdfs/KB_JB421_1926-10-29_01-00002.pdf...\n",
      "tp1_pdfs/KB_JB421_1926-10-29_01-00002.pdf téléchargé avec succès.\n",
      "Téléchargement de tp1_pdfs/KB_JB494_1922-09-28_01-0005.pdf...\n",
      "tp1_pdfs/KB_JB494_1922-09-28_01-0005.pdf téléchargé avec succès.\n",
      "Téléchargement de tp1_pdfs/KB_JB572_1927-07-20_01-00005.pdf...\n",
      "tp1_pdfs/KB_JB572_1927-07-20_01-00005.pdf téléchargé avec succès.\n",
      "Téléchargement de tp1_pdfs/KB_JB729_1927-11-15_01-00004.pdf...\n",
      "tp1_pdfs/KB_JB729_1927-11-15_01-00004.pdf téléchargé avec succès.\n",
      "Téléchargement de tp1_pdfs/KB_JB837_1925-01-01_01-00003.pdf...\n",
      "tp1_pdfs/KB_JB837_1925-01-01_01-00003.pdf téléchargé avec succès.\n",
      "Téléchargement de tp1_pdfs/KB_JB421_1950-04-15_01-00004.pdf...\n",
      "tp1_pdfs/KB_JB421_1950-04-15_01-00004.pdf téléchargé avec succès.\n",
      "Téléchargement de tp1_pdfs/KB_JB494_1939-12-08_01-0004.pdf...\n",
      "tp1_pdfs/KB_JB494_1939-12-08_01-0004.pdf téléchargé avec succès.\n",
      "Téléchargement de tp1_pdfs/KB_JB572_1950-06-07_01-00004.pdf...\n",
      "tp1_pdfs/KB_JB572_1950-06-07_01-00004.pdf téléchargé avec succès.\n",
      "Téléchargement de tp1_pdfs/KB_JB729_1939-10-31_01-00006.pdf...\n",
      "tp1_pdfs/KB_JB729_1939-10-31_01-00006.pdf téléchargé avec succès.\n",
      "Téléchargement de tp1_pdfs/KB_JB837_1950-12-01_01-00007.pdf...\n",
      "tp1_pdfs/KB_JB837_1950-12-01_01-00007.pdf téléchargé avec succès.\n"
     ]
    }
   ],
   "source": [
    "# URL de la page avec les fichiers PDF\n",
    "url = \"https://max.de.wilde.web.ulb.be/camille/\"\n",
    "\n",
    "# Crée un dossier pour les fichiers PDF s'il n'existe pas déjà\n",
    "pdf_dir = \"tp1_pdfs\"\n",
    "if not os.path.exists(pdf_dir):\n",
    "    os.makedirs(pdf_dir)\n",
    "\n",
    "# Récupérer le contenu de la page\n",
    "response = requests.get(url)\n",
    "soup = BeautifulSoup(response.text, 'html.parser')\n",
    "\n",
    "# Trouver tous les liens qui mènent à des fichiers PDF\n",
    "pdf_links = soup.find_all('a', href=re.compile(r\".*\\.pdf$\"))\n",
    "\n",
    "# Télécharger chaque fichier PDF\n",
    "for link in pdf_links:\n",
    "    pdf_url = link.get('href')\n",
    "    \n",
    "    # S'assurer que le lien est complet\n",
    "    if not pdf_url.startswith(\"http\"):\n",
    "        pdf_url = url + pdf_url\n",
    "\n",
    "    # Nom du fichier PDF\n",
    "    pdf_name = os.path.join(pdf_dir, pdf_url.split('/')[-1])\n",
    "    \n",
    "    print(f\"Téléchargement de {pdf_name}...\")\n",
    "    \n",
    "    # Télécharger le fichier PDF\n",
    "    try:\n",
    "        with requests.get(pdf_url, stream=True) as r:\n",
    "            r.raise_for_status()\n",
    "            with open(pdf_name, 'wb') as f:\n",
    "                for chunk in r.iter_content(chunk_size=8192):\n",
    "                    f.write(chunk)\n",
    "        print(f\"{pdf_name} téléchargé avec succès.\")\n",
    "    except requests.exceptions.RequestException as e:\n",
    "        print(f\"Erreur lors du téléchargement de {pdf_name} : {e}\")"
   ]
  },
  {
   "cell_type": "code",
   "execution_count": 4,
   "metadata": {},
   "outputs": [
    {
     "data": {
      "text/plain": [
       "0"
      ]
     },
     "execution_count": 4,
     "metadata": {},
     "output_type": "execute_result"
    }
   ],
   "source": [
    "# Affichage du nombre d'articles récupérés\n",
    "len(articles)"
   ]
  },
  {
   "cell_type": "code",
   "execution_count": null,
   "metadata": {},
   "outputs": [],
   "source": [
    "# Affichage des 10 premières entrées\n",
    "articles[:10]"
   ]
  },
  {
   "cell_type": "markdown",
   "metadata": {},
   "source": [
    "## Création d'un dataframe avec les liens et les titres des articles\n"
   ]
  },
  {
   "cell_type": "code",
   "execution_count": null,
   "metadata": {},
   "outputs": [],
   "source": [
    "df = pd.DataFrame(articles, columns=['link', 'title'])\n",
    "df"
   ]
  },
  {
   "cell_type": "code",
   "execution_count": null,
   "metadata": {},
   "outputs": [],
   "source": [
    "# Sauvegarde du dataframe dans un fichier csv\n",
    "df.to_csv(f\"../data/rtbf_{time.strftime('%Y%m%d')}.csv\", index=False)"
   ]
  },
  {
   "cell_type": "markdown",
   "metadata": {},
   "source": [
    "## Téléchargement d'un article et affichage du texte"
   ]
  },
  {
   "cell_type": "code",
   "execution_count": null,
   "metadata": {},
   "outputs": [],
   "source": [
    "# Récupération du premier lien du dataframe\n",
    "article_url = df.iloc[0][0]\n",
    "\n",
    "# Ouverture de la page\n",
    "response = requests.get(article_url, headers=headers)\n",
    "soup = BeautifulSoup(response.content, 'html.parser')\n",
    "# Parsing du contenu\n",
    "title = soup.find(\"h1\").get_text(separator=' ')\n",
    "\n",
    "paragraphs = []\n",
    "for paragraph in soup.find_all(\"p\", attrs={\"class\": None}):\n",
    "    paragraphs.append(paragraph.get_text(separator=' ').strip())\n",
    "\n",
    "content = \"\\n\".join(paragraphs)\n",
    "print(title)\n",
    "print(\"==================================\")\n",
    "print(content)"
   ]
  },
  {
   "cell_type": "markdown",
   "metadata": {},
   "source": [
    "### Nettoyage du texte à l'aide d'expressions régulières"
   ]
  },
  {
   "cell_type": "code",
   "execution_count": null,
   "metadata": {},
   "outputs": [],
   "source": [
    "# Suppression de tout ce qui se trouve entre parenthèses\n",
    "clean_content = re.sub(\"\\([^\\)]+\\)\", \" \", content)\n",
    "# Suppression des espaces multiples\n",
    "clean_content = re.sub(\"\\s+\", \" \", clean_content)\n",
    "\n",
    "print(content)\n",
    "print(\"==================================\")\n",
    "print(clean_content)\n"
   ]
  },
  {
   "cell_type": "markdown",
   "metadata": {},
   "source": [
    "### Création d'un fichier avec le contenu de l'article\n"
   ]
  },
  {
   "cell_type": "code",
   "execution_count": null,
   "metadata": {},
   "outputs": [],
   "source": [
    "with open(\"../data/rtbf_example.txt\", \"w\") as writer:\n",
    "    writer.write(f\"{title}\\n\\n{clean_content}\")"
   ]
  },
  {
   "cell_type": "markdown",
   "metadata": {},
   "source": [
    "## Pour en savoir plus"
   ]
  },
  {
   "cell_type": "markdown",
   "metadata": {},
   "source": [
    "- Le web scraping avec Python: https://realpython.com/beautiful-soup-web-scraper-python/\n",
    "- Tutoriel sur les expressions régulières: https://www.w3schools.com/python/python_regex.asp"
   ]
  }
 ],
 "metadata": {
  "kernelspec": {
   "display_name": ".venv",
   "language": "python",
   "name": "python3"
  },
  "language_info": {
   "codemirror_mode": {
    "name": "ipython",
    "version": 3
   },
   "file_extension": ".py",
   "mimetype": "text/x-python",
   "name": "python",
   "nbconvert_exporter": "python",
   "pygments_lexer": "ipython3",
   "version": "3.13.0"
  }
 },
 "nbformat": 4,
 "nbformat_minor": 4
}
