{
 "cells": [
  {
   "cell_type": "markdown",
   "metadata": {},
   "source": [
    "# Extraire le texte dans des documents \"riches\""
   ]
  },
  {
   "cell_type": "markdown",
   "metadata": {},
   "source": [
    "Si vous êtes sous windows, vous aurez besoin d'installer certains programmes que vous pouvez trouver ici : \n",
    "- **tesseract** télécharger le fichier depuis [github](https://github.com/UB-Mannheim/tesseract/wiki) et placez le dans un dossier (i.e `C:\\Programmes Files`)\n",
    "- **unrtf** : télécharger depuis [sourceforge](https://sourceforge.net/projects/gnuwin32/)\n",
    "- **sox (mp3)** \n",
    "    - télécharger l'exécutable depuis [sourceforge](https://sourceforge.net/projects/sox/) et exécutez-le\n",
    "    - télécharger la dll depuis [dllme](https://www.dllme.com/dll/files/libmad-0) et copiez le fichier libmad.dll dans le dossier 'sox'\n",
    "- **antiword** : télécharger l'archive depuis [softpedia](https://www.softpedia.com/get/Office-tools/Other-Office-Tools/Antiword.shtml) et extrayez la dans le dossier `C:\\` \n",
    "\n",
    "### Ajoutez les différents chemins (path) vers ces programmes à la variable d'environnement `Path`\n",
    "\n",
    "    "
   ]
  },
  {
   "cell_type": "markdown",
   "metadata": {},
   "source": [
    "## Imports"
   ]
  },
  {
   "cell_type": "code",
   "execution_count": null,
   "metadata": {},
   "outputs": [],
   "source": [
    "import os\n",
    "import textract\n",
    "import openpyxl"
   ]
  },
  {
   "cell_type": "markdown",
   "metadata": {},
   "source": [
    "## Lister les fichiers dans le répertoire `dummy`"
   ]
  },
  {
   "cell_type": "code",
   "execution_count": null,
   "metadata": {},
   "outputs": [],
   "source": [
    "path = 'dummy/'\n",
    "files = os.listdir(path)\n",
    "print(files)"
   ]
  },
  {
   "cell_type": "markdown",
   "metadata": {},
   "source": [
    "## Extraire le texte de chacun des fichiers à l'aide de la librairie `textract`\n"
   ]
  },
  {
   "cell_type": "code",
   "execution_count": null,
   "metadata": {},
   "outputs": [],
   "source": [
    "for f in sorted(files):\n",
    "    try:\n",
    "        text = textract.process(os.path.join(path, f))\n",
    "        print(text.decode('utf-8').strip())\n",
    "    except Exception as e:\n",
    "        print(os.path.join(path, f), e)"
   ]
  }
 ],
 "metadata": {
  "kernelspec": {
   "display_name": "Python 3.10.5 ('venv_tac': venv)",
   "language": "python",
   "name": "python3"
  },
  "language_info": {
   "codemirror_mode": {
    "name": "ipython",
    "version": 3
   },
   "file_extension": ".py",
   "mimetype": "text/x-python",
   "name": "python",
   "nbconvert_exporter": "python",
   "pygments_lexer": "ipython3",
   "version": "3.10.5"
  },
  "vscode": {
   "interpreter": {
    "hash": "a942b0119f0c2604d4302f32a2a6e790f63eb4c9b0c297be7a26bd56fa8e02c6"
   }
  }
 },
 "nbformat": 4,
 "nbformat_minor": 4
}
