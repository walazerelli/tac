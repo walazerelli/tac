{
 "cells": [
  {
   "cell_type": "markdown",
   "metadata": {},
   "source": [
    "# Conversion de fichiers PDF en fichiers TXT"
   ]
  },
  {
   "cell_type": "markdown",
   "metadata": {},
   "source": [
    "## Imports\n",
    "\n",
    "Pour utiliser ce notebook, vous devez préalablement récupérer les fichiers PDFs sur l'UV et les déposer dans le dossier `./data/pdf`\n"
   ]
  },
  {
   "cell_type": "code",
   "execution_count": null,
   "metadata": {},
   "outputs": [],
   "source": [
    "import os\n",
    "import PyPDF2"
   ]
  },
  {
   "cell_type": "markdown",
   "metadata": {
    "tags": []
   },
   "source": [
    "## Lister les fichiers dans `data/pdf`"
   ]
  },
  {
   "cell_type": "code",
   "execution_count": null,
   "metadata": {},
   "outputs": [],
   "source": [
    "pdf_path = '../data/pdf'\n",
    "\n",
    "pdfs = []\n",
    "for f in os.listdir(pdf_path):\n",
    "    if os.path.isfile(os.path.join(pdf_path, f)):\n",
    "        pdfs.append(f)\n",
    "pdfs[:10]"
   ]
  },
  {
   "cell_type": "markdown",
   "metadata": {},
   "source": [
    "## Créer un répertoire TXT s'il n'existe pas encore"
   ]
  },
  {
   "cell_type": "code",
   "execution_count": null,
   "metadata": {},
   "outputs": [],
   "source": [
    "txt_path = '../data/txt'\n",
    "if not os.path.exists(txt_path):\n",
    "    os.mkdir(txt_path)"
   ]
  },
  {
   "cell_type": "markdown",
   "metadata": {},
   "source": [
    "## Lister les fichiers dans `data/txt`"
   ]
  },
  {
   "cell_type": "code",
   "execution_count": null,
   "metadata": {},
   "outputs": [],
   "source": [
    "txts = []\n",
    "for f in os.listdir(txt_path):\n",
    "    if os.path.isfile(os.path.join(txt_path, f)):\n",
    "        txts.append(f)\n",
    "txts[:10]"
   ]
  },
  {
   "cell_type": "code",
   "execution_count": null,
   "metadata": {},
   "outputs": [],
   "source": [
    "#  Lister les fichiers pdf qui n'ont pas encore été convertis en txt\n",
    "not_converted_pdfs = []\n",
    "for pdf in pdfs:\n",
    "    file_name = os.path.splitext(pdf)[0]\n",
    "    if file_name + \".txt\" not in txts:\n",
    "        not_converted_pdfs.append(pdf)\n",
    "len(not_converted_pdfs)\n",
    "print(not_converted_pdfs)"
   ]
  },
  {
   "cell_type": "markdown",
   "metadata": {},
   "source": [
    "## Convertir les fichiers PDFs en TXT"
   ]
  },
  {
   "cell_type": "code",
   "execution_count": null,
   "metadata": {},
   "outputs": [],
   "source": [
    "for pdf in not_converted_pdfs:\n",
    "    # Open the PDF file\n",
    "    pdf_file = open(os.path.join(pdf_path, pdf), \"rb\")\n",
    "\n",
    "    # Create a PDF reader object\n",
    "    pdf_reader = PyPDF2.PdfReader(pdf_file)\n",
    "\n",
    "    # Extract the text from all of the pages in the PDF file\n",
    "    text = \"\"\n",
    "    for page in pdf_reader.pages:\n",
    "        text += page.extract_text()\n",
    "        \n",
    "    pdf_file.close()\n",
    "\n",
    "    with open(os.path.join(txt_path, f'{os.path.splitext(pdf)[0]}.txt'), 'w') as output_file:\n",
    "        output_file.write(text)"
   ]
  },
  {
   "cell_type": "markdown",
   "metadata": {},
   "source": [
    "## Créer un grand fichier 'corpus': commande bash\n",
    "\n",
    "Avant d'exécuter le code qui suit, vous pouvez préalablement récupérer l'échantillon complet au format `.txt` sur l'UV et les déposer dans le dossier `./data/txt`\n",
    "\n",
    "- `cat` permet d'imprimer le contenu de fichiers textes\n",
    "- Un pattern (ici `../*.txt`) permet d'appliquer la commande sur tous les fichiers qui matchent\n",
    "- `>` permet de rediriger le résultat de la commande précédente dans un fichier\n",
    "\n",
    "Pour en savoir plus sur les flux de redirections :\n",
    "https://openclassrooms.com/fr/courses/43538-reprenez-le-controle-a-laide-de-linux/40444-les-flux-de-redirection"
   ]
  },
  {
   "cell_type": "code",
   "execution_count": null,
   "metadata": {
    "tags": []
   },
   "outputs": [],
   "source": [
    "!cat ../data/txt/*.txt > ../data/all.txt"
   ]
  },
  {
   "cell_type": "markdown",
   "metadata": {},
   "source": [
    "Pour les utilisateurs Windows, si la commande `cat` ne fonctionne pas, vous pouvez également réaliser l'opération directement en Python:"
   ]
  },
  {
   "cell_type": "code",
   "execution_count": null,
   "metadata": {},
   "outputs": [],
   "source": [
    "with open(\"../data/all.txt\", \"w\", encoding=\"utf-8\") as output_file:\n",
    "    for file in os.listdir(txt_path):\n",
    "        if file.endswith(\".txt\"):\n",
    "            with open(os.path.join(txt_path, file), \"r\", encoding=\"utf-8\") as f:\n",
    "                output_file.write(f.read())\n"
   ]
  },
  {
   "cell_type": "markdown",
   "metadata": {},
   "source": [
    "## Compter le nombre de mots dans l'ensemble du corpus"
   ]
  },
  {
   "cell_type": "code",
   "execution_count": null,
   "metadata": {
    "tags": []
   },
   "outputs": [],
   "source": [
    "!wc ../data/all.txt\n"
   ]
  },
  {
   "cell_type": "markdown",
   "metadata": {},
   "source": [
    "On obtient ici, dans l'ordre, le nombre de lignes, de mots, d'octets.\n",
    "\n",
    "Pour en savoir plus sur la commande wc: https://fr.wikipedia.org/wiki/Wc_(Unix)\n",
    "\n",
    "**Attention:** la commande `wc` ne fonctionne pas toujours sur Windows. Ne vous inquiétez pas, ce n'est pas crucial pour la suite du cours."
   ]
  }
 ],
 "metadata": {
  "kernelspec": {
   "display_name": "Python 3.10.5 ('tac_venv': venv)",
   "language": "python",
   "name": "python3"
  },
  "language_info": {
   "codemirror_mode": {
    "name": "ipython",
    "version": 3
   },
   "file_extension": ".py",
   "mimetype": "text/x-python",
   "name": "python",
   "nbconvert_exporter": "python",
   "pygments_lexer": "ipython3",
   "version": "3.10.5"
  },
  "vscode": {
   "interpreter": {
    "hash": "b1932ab1d169b4769d1550e799423b6477588e745f266d79d9004c136c81607e"
   }
  }
 },
 "nbformat": 4,
 "nbformat_minor": 4
}
