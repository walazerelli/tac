{
 "cells": [
  {
   "cell_type": "markdown",
   "metadata": {},
   "source": [
    "#  TP3 : Clustering et Word2Vec"
   ]
  },
  {
   "cell_type": "markdown",
   "metadata": {},
   "source": [
    "### Wala Zerelli "
   ]
  },
  {
   "cell_type": "markdown",
   "metadata": {},
   "source": [
    "## Imports"
   ]
  },
  {
   "cell_type": "code",
   "execution_count": 1,
   "metadata": {},
   "outputs": [],
   "source": [
    "import collections\n",
    "import os\n",
    "import string\n",
    "import sys\n",
    "\n",
    "import pandas as pd\n",
    "from nltk import word_tokenize\n",
    "from nltk.corpus import stopwords\n",
    "from pprint import pprint\n",
    "from sklearn.cluster import KMeans\n",
    "from sklearn.feature_extraction.text import TfidfVectorizer\n",
    "from sklearn.decomposition import PCA\n",
    "import numpy as np\n",
    "import matplotlib.pyplot as plt\n",
    "from scipy.spatial.distance import cosine"
   ]
  },
  {
   "cell_type": "code",
   "execution_count": 77,
   "metadata": {},
   "outputs": [
    {
     "name": "stderr",
     "output_type": "stream",
     "text": [
      "[nltk_data] Downloading package punkt to\n",
      "[nltk_data]     /Users/walazerelli/nltk_data...\n",
      "[nltk_data]   Package punkt is already up-to-date!\n",
      "[nltk_data] Downloading package punkt_tab to\n",
      "[nltk_data]     /Users/walazerelli/nltk_data...\n",
      "[nltk_data]   Package punkt_tab is already up-to-date!\n"
     ]
    },
    {
     "data": {
      "text/plain": [
       "True"
      ]
     },
     "execution_count": 77,
     "metadata": {},
     "output_type": "execute_result"
    }
   ],
   "source": [
    "import nltk\n",
    "\n",
    "nltk.download('punkt')\n",
    "nltk.download(\"punkt_tab\")"
   ]
  },
  {
   "cell_type": "code",
   "execution_count": 81,
   "metadata": {},
   "outputs": [],
   "source": [
    "data_path = \"txt\""
   ]
  },
  {
   "cell_type": "markdown",
   "metadata": {},
   "source": [
    "## Choisir une décennie"
   ]
  },
  {
   "cell_type": "code",
   "execution_count": 79,
   "metadata": {},
   "outputs": [],
   "source": [
    "DECADE = '1960'"
   ]
  },
  {
   "cell_type": "markdown",
   "metadata": {},
   "source": [
    "## Charger tous les  fichiers de la décennie et en créer une liste de textes"
   ]
  },
  {
   "cell_type": "code",
   "execution_count": 89,
   "metadata": {},
   "outputs": [],
   "source": [
    "files = [f for f in sorted(os.listdir (\"./txt/\")) if f\"_{DECADE[:-1]}\" in f]"
   ]
  },
  {
   "cell_type": "code",
   "execution_count": 84,
   "metadata": {},
   "outputs": [
    {
     "data": {
      "text/plain": [
       "['KB_JB838_1960-01-10_01-00018.txt',\n",
       " 'KB_JB838_1960-01-12_01-00011.txt',\n",
       " 'KB_JB838_1960-01-13_01-00009.txt',\n",
       " 'KB_JB838_1960-01-21_01-00014.txt',\n",
       " 'KB_JB838_1960-01-22_01-00015.txt',\n",
       " 'KB_JB838_1960-01-27_01-00006.txt']"
      ]
     },
     "execution_count": 84,
     "metadata": {},
     "output_type": "execute_result"
    }
   ],
   "source": [
    "# Exemple de fichiers\n",
    "files[:6]"
   ]
  },
  {
   "cell_type": "code",
   "execution_count": 90,
   "metadata": {},
   "outputs": [],
   "source": [
    "texts = [open(\"./txt/\" + f, \"r\", encoding=\"utf-8\").read() for f in files]"
   ]
  },
  {
   "cell_type": "code",
   "execution_count": 91,
   "metadata": {},
   "outputs": [
    {
     "data": {
      "text/plain": [
       "\"ia« le som ÏJsIne MéuhMrïiqii S.AT'BBirîï^^ J00, r. Merlu» Duché, Vllvorde ch. STENO-DACTYLO élément de let ordre, bilingue, bon- i ne rémunération. Situation d’avenir, i Candidat, A soumet par écrit 130221H PORTANTE 80C.BRUXELL0I8I cherche pour entrée Immédiate Secrétaire Sténo-Dactylo 3 françalee - 1 an d'expérience, al tuât h «table - semaine de 5 Jours. Ecrire é cur. vit et prêt Ag. Rossel 029\""
      ]
     },
     "execution_count": 91,
     "metadata": {},
     "output_type": "execute_result"
    }
   ],
   "source": [
    "# Exemple de textes\n",
    "texts[0][:400]"
   ]
  },
  {
   "cell_type": "markdown",
   "metadata": {},
   "source": [
    "## Vectoriser les documents à l'aide de TF-IDF"
   ]
  },
  {
   "cell_type": "code",
   "execution_count": 92,
   "metadata": {},
   "outputs": [],
   "source": [
    "\n",
    "def preprocessing(text, stem=True):\n",
    "    \"\"\" Tokenize text and remove punctuation \"\"\"\n",
    "    text = text.translate(string.punctuation)\n",
    "    tokens = word_tokenize(text)\n",
    "    return tokens"
   ]
  },
  {
   "cell_type": "markdown",
   "metadata": {},
   "source": [
    "### Instancier le modèle TF-IDF avec ses arguments"
   ]
  },
  {
   "cell_type": "code",
   "execution_count": 93,
   "metadata": {},
   "outputs": [],
   "source": [
    "vectorizer = TfidfVectorizer(\n",
    "    tokenizer=preprocessing,\n",
    "    stop_words=stopwords.words('french'),\n",
    "    max_df=0.5,\n",
    "    min_df=0.1,\n",
    "    lowercase=True)"
   ]
  },
  {
   "cell_type": "markdown",
   "metadata": {},
   "source": [
    "### Construire la matrice de vecteurs à l'aide de la fonction `fit_transform`"
   ]
  },
  {
   "cell_type": "code",
   "execution_count": 94,
   "metadata": {},
   "outputs": [
    {
     "name": "stderr",
     "output_type": "stream",
     "text": [
      "/Users/walazerelli/Desktop/Traitement corpus /tac/.venv/lib/python3.13/site-packages/sklearn/feature_extraction/text.py:521: UserWarning: The parameter 'token_pattern' will not be used since 'tokenizer' is not None'\n",
      "  warnings.warn(\n"
     ]
    }
   ],
   "source": [
    "tfidf_vectors = vectorizer.fit_transform(texts)"
   ]
  },
  {
   "cell_type": "code",
   "execution_count": 95,
   "metadata": {},
   "outputs": [
    {
     "data": {
      "text/plain": [
       "<Compressed Sparse Row sparse matrix of dtype 'float64'\n",
       "\twith 591558 stored elements and shape (1000, 2998)>"
      ]
     },
     "execution_count": 95,
     "metadata": {},
     "output_type": "execute_result"
    }
   ],
   "source": [
    "# Détail de la matrice\n",
    "tfidf_vectors"
   ]
  },
  {
   "cell_type": "markdown",
   "metadata": {},
   "source": [
    "### Imprimer le vecteur tf-IDF du premier document"
   ]
  },
  {
   "cell_type": "code",
   "execution_count": 96,
   "metadata": {},
   "outputs": [
    {
     "data": {
      "text/plain": [
       "rossel        0.429849\n",
       "ecrire        0.290763\n",
       "agence        0.287302\n",
       "bilingue      0.195620\n",
       "importante    0.172368\n",
       "                ...   \n",
       "û             0.000000\n",
       "♦             0.000000\n",
       "ô             0.000000\n",
       "événements    0.000000\n",
       "ê             0.000000\n",
       "Length: 2998, dtype: float64"
      ]
     },
     "execution_count": 96,
     "metadata": {},
     "output_type": "execute_result"
    }
   ],
   "source": [
    "pd.Series(\n",
    "    tfidf_vectors[0].toarray()[0],\n",
    "    index=vectorizer.get_feature_names_out()\n",
    "    ).sort_values(ascending=False)"
   ]
  },
  {
   "cell_type": "markdown",
   "metadata": {},
   "source": [
    "## Comprendre les vecteurs et leurs \"distances\""
   ]
  },
  {
   "cell_type": "code",
   "execution_count": 97,
   "metadata": {},
   "outputs": [
    {
     "data": {
      "text/plain": [
       "np.float64(0.0)"
      ]
     },
     "execution_count": 97,
     "metadata": {},
     "output_type": "execute_result"
    }
   ],
   "source": [
    "cosine([1, 2, 3], [1, 2, 3])"
   ]
  },
  {
   "cell_type": "code",
   "execution_count": 98,
   "metadata": {},
   "outputs": [
    {
     "data": {
      "text/plain": [
       "np.float64(0.02004211298777725)"
      ]
     },
     "execution_count": 98,
     "metadata": {},
     "output_type": "execute_result"
    }
   ],
   "source": [
    "cosine([1, 2, 3], [1, 2, 2])"
   ]
  },
  {
   "cell_type": "code",
   "execution_count": 99,
   "metadata": {},
   "outputs": [
    {
     "data": {
      "text/plain": [
       "np.float64(0.07417990022744858)"
      ]
     },
     "execution_count": 99,
     "metadata": {},
     "output_type": "execute_result"
    }
   ],
   "source": [
    "cosine([1, 2, 3], [2, 2, 2])"
   ]
  },
  {
   "cell_type": "markdown",
   "metadata": {},
   "source": [
    "### Tests sur nos documents"
   ]
  },
  {
   "cell_type": "code",
   "execution_count": 100,
   "metadata": {},
   "outputs": [],
   "source": [
    "tfidf_array = tfidf_vectors.toarray()"
   ]
  },
  {
   "cell_type": "code",
   "execution_count": 101,
   "metadata": {},
   "outputs": [
    {
     "data": {
      "text/plain": [
       "array([0., 0., 0., ..., 0., 0., 0.])"
      ]
     },
     "execution_count": 101,
     "metadata": {},
     "output_type": "execute_result"
    }
   ],
   "source": [
    "# Vecteur du document 0\n",
    "tfidf_array[0]"
   ]
  },
  {
   "cell_type": "code",
   "execution_count": 102,
   "metadata": {},
   "outputs": [
    {
     "data": {
      "text/plain": [
       "array([0.        , 0.        , 0.01044745, ..., 0.01088908, 0.01243897,\n",
       "       0.        ])"
      ]
     },
     "execution_count": 102,
     "metadata": {},
     "output_type": "execute_result"
    }
   ],
   "source": [
    "# Vecteur du document 1\n",
    "tfidf_array[1]"
   ]
  },
  {
   "cell_type": "code",
   "execution_count": 103,
   "metadata": {},
   "outputs": [
    {
     "data": {
      "text/plain": [
       "np.float64(0.9628761011759681)"
      ]
     },
     "execution_count": 103,
     "metadata": {},
     "output_type": "execute_result"
    }
   ],
   "source": [
    "cosine(tfidf_array[0], tfidf_array[1])"
   ]
  },
  {
   "cell_type": "markdown",
   "metadata": {},
   "source": [
    "## Appliquer un algorithme de clustering sur les vecteurs TF-IDF des documents"
   ]
  },
  {
   "cell_type": "markdown",
   "metadata": {},
   "source": [
    "Pour en savoir plus sur le KMeans clustering :\n",
    "- https://medium.com/dataseries/k-means-clustering-explained-visually-in-5-minutes-b900cc69d175"
   ]
  },
  {
   "cell_type": "markdown",
   "metadata": {},
   "source": [
    "### Définir un nombre de clusters"
   ]
  },
  {
   "cell_type": "code",
   "execution_count": 104,
   "metadata": {},
   "outputs": [],
   "source": [
    "N_CLUSTERS = 5"
   ]
  },
  {
   "cell_type": "markdown",
   "metadata": {},
   "source": [
    "### Instancier le modèle K-Means et ses arguments"
   ]
  },
  {
   "cell_type": "code",
   "execution_count": 105,
   "metadata": {},
   "outputs": [],
   "source": [
    "km_model = KMeans(n_clusters=N_CLUSTERS)"
   ]
  },
  {
   "cell_type": "markdown",
   "metadata": {},
   "source": [
    "### Appliquer le clustering à l'aide de la fonction `fit_predict`"
   ]
  },
  {
   "cell_type": "code",
   "execution_count": 106,
   "metadata": {},
   "outputs": [],
   "source": [
    "clusters = km_model.fit_predict(tfidf_vectors)"
   ]
  },
  {
   "cell_type": "code",
   "execution_count": 107,
   "metadata": {},
   "outputs": [],
   "source": [
    "clustering = collections.defaultdict(list)\n",
    "\n",
    "for idx, label in enumerate(clusters):\n",
    "    clustering[label].append(files[idx])"
   ]
  },
  {
   "cell_type": "code",
   "execution_count": 108,
   "metadata": {},
   "outputs": [
    {
     "name": "stdout",
     "output_type": "stream",
     "text": [
      "{np.int32(0): ['KB_JB838_1960-02-26_01-00011.txt',\n",
      "               'KB_JB838_1960-07-13_01-00006.txt',\n",
      "               'KB_JB838_1960-07-26_01-00004.txt',\n",
      "               'KB_JB838_1960-09-02_01-00013.txt',\n",
      "               'KB_JB838_1961-02-04_01-00004.txt',\n",
      "               'KB_JB838_1961-06-07_01-00006.txt',\n",
      "               'KB_JB838_1961-06-23_01-00011.txt',\n",
      "               'KB_JB838_1961-06-30_01-00013.txt',\n",
      "               'KB_JB838_1961-07-01_01-00011.txt',\n",
      "               'KB_JB838_1961-09-12_01-00012.txt',\n",
      "               'KB_JB838_1961-09-21_01-00011.txt',\n",
      "               'KB_JB838_1961-10-27_01-00004.txt',\n",
      "               'KB_JB838_1961-12-13_01-00010.txt',\n",
      "               'KB_JB838_1961-12-14_01-00011.txt',\n",
      "               'KB_JB838_1961-12-28_01-00004.txt',\n",
      "               'KB_JB838_1962-01-09_01-00012.txt',\n",
      "               'KB_JB838_1962-01-25_01-00011.txt',\n",
      "               'KB_JB838_1962-02-24_01-00010.txt',\n",
      "               'KB_JB838_1962-05-01_01-00010.txt',\n",
      "               'KB_JB838_1962-07-31_01-00009.txt',\n",
      "               'KB_JB838_1962-09-11_01-00010.txt',\n",
      "               'KB_JB838_1962-11-15_01-00004.txt',\n",
      "               'KB_JB838_1963-03-14_01-00015.txt',\n",
      "               'KB_JB838_1963-03-22_01-00014.txt',\n",
      "               'KB_JB838_1963-03-27_01-00014.txt',\n",
      "               'KB_JB838_1963-04-06_01-00015.txt',\n",
      "               'KB_JB838_1963-05-01_01-00015.txt',\n",
      "               'KB_JB838_1963-07-16_01-00010.txt',\n",
      "               'KB_JB838_1963-11-15_01-00013.txt',\n",
      "               'KB_JB838_1964-05-15_01-00014.txt',\n",
      "               'KB_JB838_1964-07-16_01-00014.txt',\n",
      "               'KB_JB838_1964-10-17_01-00016.txt',\n",
      "               'KB_JB838_1964-10-21_01-00016.txt',\n",
      "               'KB_JB838_1964-11-17_01-00013.txt',\n",
      "               'KB_JB838_1965-01-06_01-00014.txt',\n",
      "               'KB_JB838_1965-07-14_01-00015.txt',\n",
      "               'KB_JB838_1965-07-16_01-00011.txt',\n",
      "               'KB_JB838_1966-01-29_01-00016.txt',\n",
      "               'KB_JB838_1966-03-23_01-00014.txt',\n",
      "               'KB_JB838_1966-03-24_01-00015.txt',\n",
      "               'KB_JB838_1966-04-13_01-00015.txt',\n",
      "               'KB_JB838_1966-10-11_01-00014.txt',\n",
      "               'KB_JB838_1966-10-12_01-00015.txt',\n",
      "               'KB_JB838_1966-10-26_01-00016.txt',\n",
      "               'KB_JB838_1966-11-05_01-00016.txt',\n",
      "               'KB_JB838_1966-11-26_01-00016.txt',\n",
      "               'KB_JB838_1967-03-23_01-00017.txt',\n",
      "               'KB_JB838_1967-05-26_01-00013.txt',\n",
      "               'KB_JB838_1967-06-10_01-00016.txt',\n",
      "               'KB_JB838_1967-06-27_01-00013.txt',\n",
      "               'KB_JB838_1967-07-20_01-00015.txt',\n",
      "               'KB_JB838_1967-10-21_01-00015.txt',\n",
      "               'KB_JB838_1967-11-17_01-00013.txt',\n",
      "               'KB_JB838_1967-11-24_01-00014.txt',\n",
      "               'KB_JB838_1968-05-28_01-00014.txt',\n",
      "               'KB_JB838_1968-06-14_01-00014.txt',\n",
      "               'KB_JB838_1968-07-11_01-00015.txt',\n",
      "               'KB_JB838_1968-08-03_01-00015.txt',\n",
      "               'KB_JB838_1968-09-26_01-00014.txt',\n",
      "               'KB_JB838_1968-11-16_01-00018.txt',\n",
      "               'KB_JB838_1969-01-04_01-00014.txt',\n",
      "               'KB_JB838_1969-03-25_01-00017.txt',\n",
      "               'KB_JB838_1969-06-17_01-00015.txt',\n",
      "               'KB_JB838_1969-08-21_01-00014.txt',\n",
      "               'KB_JB838_1969-10-21_01-00018.txt',\n",
      "               'KB_JB838_1969-10-31_01-00018.txt'],\n",
      " np.int32(1): ['KB_JB838_1960-01-10_01-00018.txt',\n",
      "               'KB_JB838_1960-03-29_01-00018.txt',\n",
      "               'KB_JB838_1960-04-02_01-00017.txt',\n",
      "               'KB_JB838_1960-04-30_01-00016.txt',\n",
      "               'KB_JB838_1960-08-28_01-00019.txt',\n",
      "               'KB_JB838_1960-11-12_01-00017.txt',\n",
      "               'KB_JB838_1960-11-13_01-00019.txt',\n",
      "               'KB_JB838_1960-12-21_01-00017.txt',\n",
      "               'KB_JB838_1960-12-23_01-00019.txt',\n",
      "               'KB_JB838_1961-02-11_01-00017.txt',\n",
      "               'KB_JB838_1961-02-11_01-00018.txt',\n",
      "               'KB_JB838_1961-04-02_01-00018.txt',\n",
      "               'KB_JB838_1961-04-07_01-00016.txt',\n",
      "               'KB_JB838_1961-04-12_01-00019.txt',\n",
      "               'KB_JB838_1961-06-30_01-00019.txt',\n",
      "               'KB_JB838_1961-10-10_01-00016.txt',\n",
      "               'KB_JB838_1962-01-09_01-00015.txt',\n",
      "               'KB_JB838_1962-05-05_01-00023.txt',\n",
      "               'KB_JB838_1962-10-14_01-00023.txt',\n",
      "               'KB_JB838_1962-12-08_01-00020.txt',\n",
      "               'KB_JB838_1962-12-09_01-00025.txt',\n",
      "               'KB_JB838_1963-02-08_01-00016.txt',\n",
      "               'KB_JB838_1963-04-07_01-00024.txt',\n",
      "               'KB_JB838_1963-04-18_01-00020.txt',\n",
      "               'KB_JB838_1963-05-01_01-00020.txt',\n",
      "               'KB_JB838_1963-09-07_01-00020.txt',\n",
      "               'KB_JB838_1963-09-27_01-00018.txt',\n",
      "               'KB_JB838_1963-10-20_01-00023.txt',\n",
      "               'KB_JB838_1963-11-03_01-00023.txt',\n",
      "               'KB_JB838_1963-11-23_01-00024.txt',\n",
      "               'KB_JB838_1964-01-29_01-00017.txt',\n",
      "               'KB_JB838_1964-02-08_01-00022.txt',\n",
      "               'KB_JB838_1964-03-15_01-00022.txt',\n",
      "               'KB_JB838_1964-06-17_01-00018.txt',\n",
      "               'KB_JB838_1964-08-08_01-00017.txt',\n",
      "               'KB_JB838_1964-10-27_01-00018.txt',\n",
      "               'KB_JB838_1964-10-31_01-00021.txt',\n",
      "               'KB_JB838_1964-11-15_01-00023.txt',\n",
      "               'KB_JB838_1965-01-10_01-00020.txt',\n",
      "               'KB_JB838_1965-01-22_01-00017.txt',\n",
      "               'KB_JB838_1965-04-03_01-00024.txt',\n",
      "               'KB_JB838_1965-04-11_01-00026.txt',\n",
      "               'KB_JB838_1965-05-05_01-00022.txt',\n",
      "               'KB_JB838_1965-05-30_01-00026.txt',\n",
      "               'KB_JB838_1965-06-27_01-00025.txt',\n",
      "               'KB_JB838_1965-08-08_01-00020.txt',\n",
      "               'KB_JB838_1965-09-08_01-00019.txt',\n",
      "               'KB_JB838_1965-09-28_01-00017.txt',\n",
      "               'KB_JB838_1965-10-15_01-00021.txt',\n",
      "               'KB_JB838_1965-10-19_01-00019.txt',\n",
      "               'KB_JB838_1965-10-22_01-00016.txt',\n",
      "               'KB_JB838_1965-11-14_01-00027.txt',\n",
      "               'KB_JB838_1965-11-21_01-00023.txt',\n",
      "               'KB_JB838_1965-12-11_01-00022.txt',\n",
      "               'KB_JB838_1966-01-08_01-00019.txt',\n",
      "               'KB_JB838_1966-01-28_01-00018.txt',\n",
      "               'KB_JB838_1966-03-05_01-00024.txt',\n",
      "               'KB_JB838_1966-04-10_01-00027.txt',\n",
      "               'KB_JB838_1966-07-17_01-00022.txt',\n",
      "               'KB_JB838_1966-08-17_01-00017.txt',\n",
      "               'KB_JB838_1966-08-21_01-00023.txt',\n",
      "               'KB_JB838_1966-11-17_01-00022.txt',\n",
      "               'KB_JB838_1966-11-20_01-00023.txt',\n",
      "               'KB_JB838_1966-12-03_01-00024.txt',\n",
      "               'KB_JB838_1967-01-13_01-00017.txt',\n",
      "               'KB_JB838_1967-01-22_01-00028.txt',\n",
      "               'KB_JB838_1967-01-27_01-00019.txt',\n",
      "               'KB_JB838_1967-02-05_01-00028.txt',\n",
      "               'KB_JB838_1967-02-23_01-00022.txt',\n",
      "               'KB_JB838_1967-04-16_01-00027.txt',\n",
      "               'KB_JB838_1967-05-04_01-00025.txt',\n",
      "               'KB_JB838_1967-07-02_01-00023.txt',\n",
      "               'KB_JB838_1967-07-08_01-00021.txt',\n",
      "               'KB_JB838_1967-07-15_01-00024.txt',\n",
      "               'KB_JB838_1967-10-05_01-00026.txt',\n",
      "               'KB_JB838_1967-10-10_01-00022.txt',\n",
      "               'KB_JB838_1968-01-07_01-00025.txt',\n",
      "               'KB_JB838_1968-01-10_01-00018.txt',\n",
      "               'KB_JB838_1968-02-04_01-00023.txt',\n",
      "               'KB_JB838_1968-04-16_01-00027.txt',\n",
      "               'KB_JB838_1968-06-16_01-00029.txt',\n",
      "               'KB_JB838_1968-07-14_01-00027.txt',\n",
      "               'KB_JB838_1968-07-19_01-00017.txt',\n",
      "               'KB_JB838_1968-08-14_01-00017.txt',\n",
      "               'KB_JB838_1968-08-18_01-00024.txt',\n",
      "               'KB_JB838_1968-09-22_01-00029.txt',\n",
      "               'KB_JB838_1968-10-27_01-00036.txt',\n",
      "               'KB_JB838_1969-02-07_01-00019.txt',\n",
      "               'KB_JB838_1969-02-16_01-00031.txt',\n",
      "               'KB_JB838_1969-03-06_01-00021.txt',\n",
      "               'KB_JB838_1969-03-06_01-00022.txt',\n",
      "               'KB_JB838_1969-03-25_01-00025.txt',\n",
      "               'KB_JB838_1969-04-13_01-00035.txt',\n",
      "               'KB_JB838_1969-04-25_01-00026.txt',\n",
      "               'KB_JB838_1969-05-01_01-00032.txt',\n",
      "               'KB_JB838_1969-05-17_01-00029.txt',\n",
      "               'KB_JB838_1969-05-21_01-00026.txt',\n",
      "               'KB_JB838_1969-06-01_01-00026.txt',\n",
      "               'KB_JB838_1969-06-11_01-00023.txt',\n",
      "               'KB_JB838_1969-06-22_01-00031.txt',\n",
      "               'KB_JB838_1969-09-11_01-00027.txt',\n",
      "               'KB_JB838_1969-12-09_01-00022.txt',\n",
      "               'KB_JB838_1969-12-14_01-00028.txt',\n",
      "               'KB_JB838_1969-12-30_01-00018.txt'],\n",
      " np.int32(2): ['KB_JB838_1960-01-12_01-00011.txt',\n",
      "               'KB_JB838_1960-01-13_01-00009.txt',\n",
      "               'KB_JB838_1960-01-27_01-00006.txt',\n",
      "               'KB_JB838_1960-01-28_01-00011.txt',\n",
      "               'KB_JB838_1960-01-28_01-00021.txt',\n",
      "               'KB_JB838_1960-01-30_01-00007.txt',\n",
      "               'KB_JB838_1960-01-31_01-00024.txt',\n",
      "               'KB_JB838_1960-02-19_01-00011.txt',\n",
      "               'KB_JB838_1960-02-20_01-00006.txt',\n",
      "               'KB_JB838_1960-02-26_01-00001.txt',\n",
      "               'KB_JB838_1960-03-04_01-00010.txt',\n",
      "               'KB_JB838_1960-03-06_01-00004.txt',\n",
      "               'KB_JB838_1960-03-08_01-00008.txt',\n",
      "               'KB_JB838_1960-03-09_01-00001.txt',\n",
      "               'KB_JB838_1960-03-12_01-00007.txt',\n",
      "               'KB_JB838_1960-03-13_01-00009.txt',\n",
      "               'KB_JB838_1960-03-16_01-00007.txt',\n",
      "               'KB_JB838_1960-03-18_01-00009.txt',\n",
      "               'KB_JB838_1960-03-20_01-00014.txt',\n",
      "               'KB_JB838_1960-04-05_01-00004.txt',\n",
      "               'KB_JB838_1960-04-06_01-00008.txt',\n",
      "               'KB_JB838_1960-04-13_01-00002.txt',\n",
      "               'KB_JB838_1960-04-16_01-00002.txt',\n",
      "               'KB_JB838_1960-04-23_01-00005.txt',\n",
      "               'KB_JB838_1960-05-03_01-00013.txt',\n",
      "               'KB_JB838_1960-05-19_01-00004.txt',\n",
      "               'KB_JB838_1960-05-27_01-00007.txt',\n",
      "               'KB_JB838_1960-05-28_01-00008.txt',\n",
      "               'KB_JB838_1960-05-29_01-00005.txt',\n",
      "               'KB_JB838_1960-06-01_01-00011.txt',\n",
      "               'KB_JB838_1960-06-23_01-00010.txt',\n",
      "               'KB_JB838_1960-07-05_01-00004.txt',\n",
      "               'KB_JB838_1960-07-10_01-00001.txt',\n",
      "               'KB_JB838_1960-07-13_01-00012.txt',\n",
      "               'KB_JB838_1960-07-30_01-00006.txt',\n",
      "               'KB_JB838_1960-08-04_01-00001.txt',\n",
      "               'KB_JB838_1960-08-05_01-00007.txt',\n",
      "               'KB_JB838_1960-08-05_01-00014.txt',\n",
      "               'KB_JB838_1960-08-06_01-00005.txt',\n",
      "               'KB_JB838_1960-08-17_01-00009.txt',\n",
      "               'KB_JB838_1960-08-23_01-00002.txt',\n",
      "               'KB_JB838_1960-08-27_01-00011.txt',\n",
      "               'KB_JB838_1960-09-07_01-00008.txt',\n",
      "               'KB_JB838_1960-09-27_01-00009.txt',\n",
      "               'KB_JB838_1960-10-18_01-00004.txt',\n",
      "               'KB_JB838_1960-10-21_01-00024.txt',\n",
      "               'KB_JB838_1960-10-22_01-00003.txt',\n",
      "               'KB_JB838_1960-10-26_01-00001.txt',\n",
      "               'KB_JB838_1960-10-28_01-00002.txt',\n",
      "               'KB_JB838_1960-10-30_01-00007.txt',\n",
      "               'KB_JB838_1960-11-01_01-00013.txt',\n",
      "               'KB_JB838_1960-11-05_01-00004.txt',\n",
      "               'KB_JB838_1960-11-11_01-00002.txt',\n",
      "               'KB_JB838_1960-11-24_01-00001.txt',\n",
      "               'KB_JB838_1960-12-02_01-00004.txt',\n",
      "               'KB_JB838_1960-12-04_01-00014.txt',\n",
      "               'KB_JB838_1960-12-06_01-00011.txt',\n",
      "               'KB_JB838_1961-01-14_01-00013.txt',\n",
      "               'KB_JB838_1961-01-19_01-00006.txt',\n",
      "               'KB_JB838_1961-01-22_01-00006.txt',\n",
      "               'KB_JB838_1961-01-27_01-00006.txt',\n",
      "               'KB_JB838_1961-02-12_01-00012.txt',\n",
      "               'KB_JB838_1961-02-17_01-00012.txt',\n",
      "               'KB_JB838_1961-02-21_01-00013.txt',\n",
      "               'KB_JB838_1961-02-25_01-00004.txt',\n",
      "               'KB_JB838_1961-03-01_01-00011.txt',\n",
      "               'KB_JB838_1961-03-07_01-00006.txt',\n",
      "               'KB_JB838_1961-03-08_01-00012.txt',\n",
      "               'KB_JB838_1961-03-31_01-00010.txt',\n",
      "               'KB_JB838_1961-04-02_01-00013.txt',\n",
      "               'KB_JB838_1961-04-04_01-00010.txt',\n",
      "               'KB_JB838_1961-04-14_01-00003.txt',\n",
      "               'KB_JB838_1961-04-22_01-00006.txt',\n",
      "               'KB_JB838_1961-04-30_01-00007.txt',\n",
      "               'KB_JB838_1961-05-04_01-00006.txt',\n",
      "               'KB_JB838_1961-05-09_01-00002.txt',\n",
      "               'KB_JB838_1961-06-14_01-00012.txt',\n",
      "               'KB_JB838_1961-06-16_01-00024.txt',\n",
      "               'KB_JB838_1961-06-23_01-00005.txt',\n",
      "               'KB_JB838_1961-06-25_01-00001.txt',\n",
      "               'KB_JB838_1961-07-15_01-00006.txt',\n",
      "               'KB_JB838_1961-07-16_01-00004.txt',\n",
      "               'KB_JB838_1961-08-05_01-00002.txt',\n",
      "               'KB_JB838_1961-08-27_01-00008.txt',\n",
      "               'KB_JB838_1961-09-08_01-00024.txt',\n",
      "               'KB_JB838_1961-09-10_01-00001.txt',\n",
      "               'KB_JB838_1961-09-13_01-00011.txt',\n",
      "               'KB_JB838_1961-09-14_01-00006.txt',\n",
      "               'KB_JB838_1961-09-19_01-00009.txt',\n",
      "               'KB_JB838_1961-10-08_01-00011.txt',\n",
      "               'KB_JB838_1961-10-29_01-00012.txt',\n",
      "               'KB_JB838_1961-11-07_01-00005.txt',\n",
      "               'KB_JB838_1961-11-17_01-00024.txt',\n",
      "               'KB_JB838_1961-11-23_01-00014.txt',\n",
      "               'KB_JB838_1961-12-02_01-00003.txt',\n",
      "               'KB_JB838_1961-12-02_01-00007.txt',\n",
      "               'KB_JB838_1961-12-03_01-00001.txt',\n",
      "               'KB_JB838_1961-12-05_01-00001.txt',\n",
      "               'KB_JB838_1961-12-09_01-00024.txt',\n",
      "               'KB_JB838_1961-12-15_01-00024.txt',\n",
      "               'KB_JB838_1961-12-17_01-00006.txt',\n",
      "               'KB_JB838_1961-12-24_01-00012.txt',\n",
      "               'KB_JB838_1961-12-26_01-00003.txt',\n",
      "               'KB_JB838_1962-01-21_01-00030.txt',\n",
      "               'KB_JB838_1962-01-25_01-00009.txt',\n",
      "               'KB_JB838_1962-02-20_01-00011.txt',\n",
      "               'KB_JB838_1962-02-24_01-00001.txt',\n",
      "               'KB_JB838_1962-02-25_01-00015.txt',\n",
      "               'KB_JB838_1962-03-04_01-00011.txt',\n",
      "               'KB_JB838_1962-03-06_01-00009.txt',\n",
      "               'KB_JB838_1962-03-09_01-00008.txt',\n",
      "               'KB_JB838_1962-03-27_01-00008.txt',\n",
      "               'KB_JB838_1962-04-06_01-00003.txt',\n",
      "               'KB_JB838_1962-04-06_01-00009.txt',\n",
      "               'KB_JB838_1962-04-12_01-00002.txt',\n",
      "               'KB_JB838_1962-04-17_01-00010.txt',\n",
      "               'KB_JB838_1962-04-18_01-00001.txt',\n",
      "               'KB_JB838_1962-04-21_01-00010.txt',\n",
      "               'KB_JB838_1962-04-27_01-00032.txt',\n",
      "               'KB_JB838_1962-04-28_01-00005.txt',\n",
      "               'KB_JB838_1962-05-01_01-00018.txt',\n",
      "               'KB_JB838_1962-05-09_01-00006.txt',\n",
      "               'KB_JB838_1962-05-12_01-00002.txt',\n",
      "               'KB_JB838_1962-05-19_01-00011.txt',\n",
      "               'KB_JB838_1962-05-22_01-00007.txt',\n",
      "               'KB_JB838_1962-06-08_01-00024.txt',\n",
      "               'KB_JB838_1962-06-09_01-00011.txt',\n",
      "               'KB_JB838_1962-06-24_01-00010.txt',\n",
      "               'KB_JB838_1962-06-26_01-00003.txt',\n",
      "               'KB_JB838_1962-06-27_01-00001.txt',\n",
      "               'KB_JB838_1962-06-27_01-00010.txt',\n",
      "               'KB_JB838_1962-07-08_01-00012.txt',\n",
      "               'KB_JB838_1962-07-23_01-00010.txt',\n",
      "               'KB_JB838_1962-07-27_01-00012.txt',\n",
      "               'KB_JB838_1962-08-05_01-00007.txt',\n",
      "               'KB_JB838_1962-08-08_01-00010.txt',\n",
      "               'KB_JB838_1962-08-11_01-00003.txt',\n",
      "               'KB_JB838_1962-08-16_01-00003.txt',\n",
      "               'KB_JB838_1962-08-19_01-00006.txt',\n",
      "               'KB_JB838_1962-08-25_01-00002.txt',\n",
      "               'KB_JB838_1962-08-26_01-00011.txt',\n",
      "               'KB_JB838_1962-08-29_01-00002.txt',\n",
      "               'KB_JB838_1962-09-05_01-00006.txt',\n",
      "               'KB_JB838_1962-09-11_01-00009.txt',\n",
      "               'KB_JB838_1962-09-21_01-00013.txt',\n",
      "               'KB_JB838_1962-09-23_01-00008.txt',\n",
      "               'KB_JB838_1962-09-26_01-00009.txt',\n",
      "               'KB_JB838_1962-10-14_01-00011.txt',\n",
      "               'KB_JB838_1962-10-19_01-00007.txt',\n",
      "               'KB_JB838_1962-10-26_01-00011.txt',\n",
      "               'KB_JB838_1962-11-04_01-00003.txt',\n",
      "               'KB_JB838_1962-11-22_01-00007.txt',\n",
      "               'KB_JB838_1962-11-23_01-00009.txt',\n",
      "               'KB_JB838_1962-11-30_01-00009.txt',\n",
      "               'KB_JB838_1962-12-09_01-00015.txt',\n",
      "               'KB_JB838_1962-12-11_01-00010.txt',\n",
      "               'KB_JB838_1962-12-13_01-00006.txt',\n",
      "               'KB_JB838_1962-12-18_01-00009.txt',\n",
      "               'KB_JB838_1962-12-27_01-00009.txt',\n",
      "               'KB_JB838_1963-01-13_01-00016.txt',\n",
      "               'KB_JB838_1963-01-17_01-00001.txt',\n",
      "               'KB_JB838_1963-01-31_01-00002.txt',\n",
      "               'KB_JB838_1963-02-06_01-00010.txt',\n",
      "               'KB_JB838_1963-02-08_01-00007.txt',\n",
      "               'KB_JB838_1963-02-12_01-00006.txt',\n",
      "               'KB_JB838_1963-02-14_01-00006.txt',\n",
      "               'KB_JB838_1963-02-17_01-00016.txt',\n",
      "               'KB_JB838_1963-02-20_01-00010.txt',\n",
      "               'KB_JB838_1963-02-27_01-00001.txt',\n",
      "               'KB_JB838_1963-03-16_01-00005.txt',\n",
      "               'KB_JB838_1963-03-20_01-00012.txt',\n",
      "               'KB_JB838_1963-03-21_01-00005.txt',\n",
      "               'KB_JB838_1963-03-21_01-00008.txt',\n",
      "               'KB_JB838_1963-03-29_01-00007.txt',\n",
      "               'KB_JB838_1963-04-05_01-00003.txt',\n",
      "               'KB_JB838_1963-04-13_01-00007.txt',\n",
      "               'KB_JB838_1963-04-20_01-00006.txt',\n",
      "               'KB_JB838_1963-04-20_01-00007.txt',\n",
      "               'KB_JB838_1963-04-21_01-00006.txt',\n",
      "               'KB_JB838_1963-04-26_01-00004.txt',\n",
      "               'KB_JB838_1963-04-28_01-00001.txt',\n",
      "               'KB_JB838_1963-05-02_01-00009.txt',\n",
      "               'KB_JB838_1963-05-03_01-00006.txt',\n",
      "               'KB_JB838_1963-05-04_01-00003.txt',\n",
      "               'KB_JB838_1963-05-05_01-00011.txt',\n",
      "               'KB_JB838_1963-05-18_01-00011.txt',\n",
      "               'KB_JB838_1963-06-11_01-00010.txt',\n",
      "               'KB_JB838_1963-06-16_01-00001.txt',\n",
      "               'KB_JB838_1963-06-18_01-00007.txt',\n",
      "               'KB_JB838_1963-06-29_01-00030.txt',\n",
      "               'KB_JB838_1963-07-10_01-00008.txt',\n",
      "               'KB_JB838_1963-07-11_01-00006.txt',\n",
      "               'KB_JB838_1963-07-12_01-00022.txt',\n",
      "               'KB_JB838_1963-07-28_01-00010.txt',\n",
      "               'KB_JB838_1963-07-31_01-00008.txt',\n",
      "               'KB_JB838_1963-08-14_01-00008.txt',\n",
      "               'KB_JB838_1963-08-15_01-00001.txt',\n",
      "               'KB_JB838_1963-08-21_01-00003.txt',\n",
      "               'KB_JB838_1963-08-24_01-00024.txt',\n",
      "               'KB_JB838_1963-08-29_01-00011.txt',\n",
      "               'KB_JB838_1963-09-08_01-00011.txt',\n",
      "               'KB_JB838_1963-09-22_01-00006.txt',\n",
      "               'KB_JB838_1963-10-01_01-00009.txt',\n",
      "               'KB_JB838_1963-10-04_01-00014.txt',\n",
      "               'KB_JB838_1963-10-26_01-00003.txt',\n",
      "               'KB_JB838_1963-11-05_01-00004.txt',\n",
      "               'KB_JB838_1963-11-13_01-00001.txt',\n",
      "               'KB_JB838_1963-11-20_01-00011.txt',\n",
      "               'KB_JB838_1963-11-26_01-00001.txt',\n",
      "               'KB_JB838_1963-11-28_01-00001.txt',\n",
      "               'KB_JB838_1963-12-06_01-00007.txt',\n",
      "               'KB_JB838_1963-12-06_01-00014.txt',\n",
      "               'KB_JB838_1963-12-07_01-00012.txt',\n",
      "               'KB_JB838_1963-12-15_01-00011.txt',\n",
      "               'KB_JB838_1963-12-28_01-00004.txt',\n",
      "               'KB_JB838_1964-01-18_01-00008.txt',\n",
      "               'KB_JB838_1964-02-09_01-00002.txt',\n",
      "               'KB_JB838_1964-02-13_01-00012.txt',\n",
      "               'KB_JB838_1964-02-14_01-00008.txt',\n",
      "               'KB_JB838_1964-02-20_01-00003.txt',\n",
      "               'KB_JB838_1964-02-28_01-00008.txt',\n",
      "               'KB_JB838_1964-02-29_01-00005.txt',\n",
      "               'KB_JB838_1964-02-29_01-00011.txt',\n",
      "               'KB_JB838_1964-03-03_01-00003.txt',\n",
      "               'KB_JB838_1964-03-05_01-00003.txt',\n",
      "               'KB_JB838_1964-03-08_01-00003.txt',\n",
      "               'KB_JB838_1964-03-08_01-00013.txt',\n",
      "               'KB_JB838_1964-03-13_01-00008.txt',\n",
      "               'KB_JB838_1964-03-13_01-00012.txt',\n",
      "               'KB_JB838_1964-03-22_01-00012.txt',\n",
      "               'KB_JB838_1964-03-26_01-00005.txt',\n",
      "               'KB_JB838_1964-03-27_01-00015.txt',\n",
      "               'KB_JB838_1964-03-28_01-00001.txt',\n",
      "               'KB_JB838_1964-04-03_01-00016.txt',\n",
      "               'KB_JB838_1964-04-05_01-00014.txt',\n",
      "               'KB_JB838_1964-04-21_01-00006.txt',\n",
      "               'KB_JB838_1964-04-30_01-00002.txt',\n",
      "               'KB_JB838_1964-05-03_01-00003.txt',\n",
      "               'KB_JB838_1964-05-05_01-00008.txt',\n",
      "               'KB_JB838_1964-05-08_01-00004.txt',\n",
      "               'KB_JB838_1964-05-12_01-00010.txt',\n",
      "               'KB_JB838_1964-05-17_01-00005.txt',\n",
      "               'KB_JB838_1964-05-26_01-00008.txt',\n",
      "               'KB_JB838_1964-06-02_01-00001.txt',\n",
      "               'KB_JB838_1964-06-03_01-00003.txt',\n",
      "               'KB_JB838_1964-06-06_01-00004.txt',\n",
      "               'KB_JB838_1964-06-12_01-00007.txt',\n",
      "               'KB_JB838_1964-06-13_01-00004.txt',\n",
      "               'KB_JB838_1964-06-16_01-00003.txt',\n",
      "               'KB_JB838_1964-06-21_01-00004.txt',\n",
      "               'KB_JB838_1964-07-04_01-00009.txt',\n",
      "               'KB_JB838_1964-07-08_01-00001.txt',\n",
      "               'KB_JB838_1964-07-25_01-00003.txt',\n",
      "               'KB_JB838_1964-08-01_01-00006.txt',\n",
      "               'KB_JB838_1964-08-11_01-00002.txt',\n",
      "               'KB_JB838_1964-08-29_01-00004.txt',\n",
      "               'KB_JB838_1964-08-30_01-00015.txt',\n",
      "               'KB_JB838_1964-08-30_01-00030.txt',\n",
      "               'KB_JB838_1964-09-13_01-00002.txt',\n",
      "               'KB_JB838_1964-09-29_01-00010.txt',\n",
      "               'KB_JB838_1964-10-10_01-00005.txt',\n",
      "               'KB_JB838_1964-10-16_01-00005.txt',\n",
      "               'KB_JB838_1964-10-23_01-00006.txt',\n",
      "               'KB_JB838_1964-10-24_01-00008.txt',\n",
      "               'KB_JB838_1964-11-05_01-00005.txt',\n",
      "               'KB_JB838_1964-11-06_01-00010.txt',\n",
      "               'KB_JB838_1964-11-07_01-00006.txt',\n",
      "               'KB_JB838_1964-11-14_01-00002.txt',\n",
      "               'KB_JB838_1964-11-15_01-00003.txt',\n",
      "               'KB_JB838_1964-11-22_01-00012.txt',\n",
      "               'KB_JB838_1964-11-27_01-00013.txt',\n",
      "               'KB_JB838_1964-11-28_01-00009.txt',\n",
      "               'KB_JB838_1964-11-29_01-00007.txt',\n",
      "               'KB_JB838_1964-12-01_01-00004.txt',\n",
      "               'KB_JB838_1964-12-03_01-00004.txt',\n",
      "               'KB_JB838_1964-12-05_01-00009.txt',\n",
      "               'KB_JB838_1964-12-05_01-00011.txt',\n",
      "               'KB_JB838_1964-12-24_01-00015.txt',\n",
      "               'KB_JB838_1965-01-15_01-00009.txt',\n",
      "               'KB_JB838_1965-01-31_01-00014.txt',\n",
      "               'KB_JB838_1965-02-07_01-00003.txt',\n",
      "               'KB_JB838_1965-02-09_01-00009.txt',\n",
      "               'KB_JB838_1965-02-11_01-00005.txt',\n",
      "               'KB_JB838_1965-02-11_01-00009.txt',\n",
      "               'KB_JB838_1965-02-20_01-00002.txt',\n",
      "               'KB_JB838_1965-03-05_01-00002.txt',\n",
      "               'KB_JB838_1965-03-05_01-00004.txt',\n",
      "               'KB_JB838_1965-04-02_01-00014.txt',\n",
      "               'KB_JB838_1965-04-03_01-00003.txt',\n",
      "               'KB_JB838_1965-04-03_01-00006.txt',\n",
      "               'KB_JB838_1965-04-07_01-00031.txt',\n",
      "               'KB_JB838_1965-04-09_01-00023.txt',\n",
      "               'KB_JB838_1965-04-11_01-00008.txt',\n",
      "               'KB_JB838_1965-05-08_01-00032.txt',\n",
      "               'KB_JB838_1965-05-12_01-00005.txt',\n",
      "               'KB_JB838_1965-05-13_01-00001.txt',\n",
      "               'KB_JB838_1965-05-18_01-00004.txt',\n",
      "               'KB_JB838_1965-05-22_01-00012.txt',\n",
      "               'KB_JB838_1965-05-26_01-00010.txt',\n",
      "               'KB_JB838_1965-05-27_01-00008.txt',\n",
      "               'KB_JB838_1965-06-02_01-00012.txt',\n",
      "               'KB_JB838_1965-06-03_01-00003.txt',\n",
      "               'KB_JB838_1965-06-06_01-00008.txt',\n",
      "               'KB_JB838_1965-06-13_01-00012.txt',\n",
      "               'KB_JB838_1965-06-29_01-00001.txt',\n",
      "               'KB_JB838_1965-06-29_01-00002.txt',\n",
      "               'KB_JB838_1965-06-29_01-00008.txt',\n",
      "               'KB_JB838_1965-07-01_01-00013.txt',\n",
      "               'KB_JB838_1965-07-04_01-00007.txt',\n",
      "               'KB_JB838_1965-07-14_01-00002.txt',\n",
      "               'KB_JB838_1965-07-24_01-00006.txt',\n",
      "               'KB_JB838_1965-08-11_01-00007.txt',\n",
      "               'KB_JB838_1965-08-15_01-00005.txt',\n",
      "               'KB_JB838_1965-08-28_01-00004.txt',\n",
      "               'KB_JB838_1965-09-15_01-00005.txt',\n",
      "               'KB_JB838_1965-09-19_01-00011.txt',\n",
      "               'KB_JB838_1965-10-02_01-00006.txt',\n",
      "               'KB_JB838_1965-10-03_01-00001.txt',\n",
      "               'KB_JB838_1965-10-15_01-00010.txt',\n",
      "               'KB_JB838_1965-10-16_01-00002.txt',\n",
      "               'KB_JB838_1965-10-17_01-00013.txt',\n",
      "               'KB_JB838_1965-10-19_01-00005.txt',\n",
      "               'KB_JB838_1965-10-19_01-00009.txt',\n",
      "               'KB_JB838_1965-10-20_01-00013.txt',\n",
      "               'KB_JB838_1965-10-22_01-00022.txt',\n",
      "               'KB_JB838_1965-10-23_01-00001.txt',\n",
      "               'KB_JB838_1965-10-27_01-00002.txt',\n",
      "               'KB_JB838_1965-10-28_01-00009.txt',\n",
      "               'KB_JB838_1965-11-06_01-00006.txt',\n",
      "               'KB_JB838_1965-11-06_01-00009.txt',\n",
      "               'KB_JB838_1965-11-18_01-00006.txt',\n",
      "               'KB_JB838_1965-11-23_01-00024.txt',\n",
      "               'KB_JB838_1965-11-28_01-00017.txt',\n",
      "               'KB_JB838_1965-12-11_01-00017.txt',\n",
      "               'KB_JB838_1965-12-18_01-00001.txt',\n",
      "               'KB_JB838_1965-12-23_01-00011.txt',\n",
      "               'KB_JB838_1965-12-28_01-00010.txt',\n",
      "               'KB_JB838_1965-12-30_01-00009.txt',\n",
      "               'KB_JB838_1965-12-31_01-00005.txt',\n",
      "               'KB_JB838_1966-01-06_01-00009.txt',\n",
      "               'KB_JB838_1966-01-11_01-00006.txt',\n",
      "               'KB_JB838_1966-01-22_01-00010.txt',\n",
      "               'KB_JB838_1966-01-29_01-00013.txt',\n",
      "               'KB_JB838_1966-02-10_01-00001.txt',\n",
      "               'KB_JB838_1966-02-13_01-00001.txt',\n",
      "               'KB_JB838_1966-02-16_01-00006.txt',\n",
      "               'KB_JB838_1966-02-26_01-00002.txt',\n",
      "               'KB_JB838_1966-02-27_01-00002.txt',\n",
      "               'KB_JB838_1966-03-16_01-00007.txt',\n",
      "               'KB_JB838_1966-03-26_01-00007.txt',\n",
      "               'KB_JB838_1966-03-26_01-00011.txt',\n",
      "               'KB_JB838_1966-04-02_01-00005.txt',\n",
      "               'KB_JB838_1966-04-09_01-00012.txt',\n",
      "               'KB_JB838_1966-04-16_01-00014.txt',\n",
      "               'KB_JB838_1966-05-18_01-00008.txt',\n",
      "               'KB_JB838_1966-05-21_01-00004.txt',\n",
      "               'KB_JB838_1966-05-29_01-00013.txt',\n",
      "               'KB_JB838_1966-06-08_01-00007.txt',\n",
      "               'KB_JB838_1966-06-16_01-00010.txt',\n",
      "               'KB_JB838_1966-06-17_01-00002.txt',\n",
      "               'KB_JB838_1966-07-10_01-00004.txt',\n",
      "               'KB_JB838_1966-07-15_01-00004.txt',\n",
      "               'KB_JB838_1966-07-23_01-00005.txt',\n",
      "               'KB_JB838_1966-07-24_01-00009.txt',\n",
      "               'KB_JB838_1966-07-26_01-00013.txt',\n",
      "               'KB_JB838_1966-08-07_01-00005.txt',\n",
      "               'KB_JB838_1966-08-30_01-00011.txt',\n",
      "               'KB_JB838_1966-09-09_01-00004.txt',\n",
      "               'KB_JB838_1966-09-15_01-00008.txt',\n",
      "               'KB_JB838_1966-09-16_01-00006.txt',\n",
      "               'KB_JB838_1966-09-16_01-00011.txt',\n",
      "               'KB_JB838_1966-09-17_01-00005.txt',\n",
      "               'KB_JB838_1966-09-22_01-00006.txt',\n",
      "               'KB_JB838_1966-09-29_01-00013.txt',\n",
      "               'KB_JB838_1966-10-07_01-00015.txt',\n",
      "               'KB_JB838_1966-10-15_01-00004.txt',\n",
      "               'KB_JB838_1966-10-26_01-00007.txt',\n",
      "               'KB_JB838_1966-10-26_01-00014.txt',\n",
      "               'KB_JB838_1966-11-11_01-00013.txt',\n",
      "               'KB_JB838_1966-11-17_01-00008.txt',\n",
      "               'KB_JB838_1966-11-19_01-00010.txt',\n",
      "               'KB_JB838_1966-11-26_01-00032.txt',\n",
      "               'KB_JB838_1966-12-08_01-00012.txt',\n",
      "               'KB_JB838_1966-12-09_01-00012.txt',\n",
      "               'KB_JB838_1966-12-22_01-00001.txt',\n",
      "               'KB_JB838_1966-12-22_01-00007.txt',\n",
      "               'KB_JB838_1966-12-25_01-00013.txt',\n",
      "               'KB_JB838_1967-01-12_01-00005.txt',\n",
      "               'KB_JB838_1967-01-12_01-00009.txt',\n",
      "               'KB_JB838_1967-01-14_01-00030.txt',\n",
      "               'KB_JB838_1967-01-17_01-00005.txt',\n",
      "               'KB_JB838_1967-01-25_01-00008.txt',\n",
      "               'KB_JB838_1967-02-04_01-00007.txt',\n",
      "               'KB_JB838_1967-02-07_01-00008.txt',\n",
      "               'KB_JB838_1967-02-09_01-00009.txt',\n",
      "               'KB_JB838_1967-02-25_01-00005.txt',\n",
      "               'KB_JB838_1967-03-01_01-00007.txt',\n",
      "               'KB_JB838_1967-03-09_01-00008.txt',\n",
      "               'KB_JB838_1967-03-15_01-00011.txt',\n",
      "               'KB_JB838_1967-03-25_01-00005.txt',\n",
      "               'KB_JB838_1967-04-11_01-00004.txt',\n",
      "               'KB_JB838_1967-04-12_01-00008.txt',\n",
      "               'KB_JB838_1967-04-16_01-00006.txt',\n",
      "               'KB_JB838_1967-04-18_01-00007.txt',\n",
      "               'KB_JB838_1967-04-22_01-00013.txt',\n",
      "               'KB_JB838_1967-04-23_01-00015.txt',\n",
      "               'KB_JB838_1967-04-26_01-00012.txt',\n",
      "               'KB_JB838_1967-04-29_01-00005.txt',\n",
      "               'KB_JB838_1967-04-30_01-00010.txt',\n",
      "               'KB_JB838_1967-05-03_01-00004.txt',\n",
      "               'KB_JB838_1967-05-09_01-00009.txt',\n",
      "               'KB_JB838_1967-05-11_01-00032.txt',\n",
      "               'KB_JB838_1967-05-14_01-00013.txt',\n",
      "               'KB_JB838_1967-06-13_01-00008.txt',\n",
      "               'KB_JB838_1967-06-21_01-00008.txt',\n",
      "               'KB_JB838_1967-07-04_01-00006.txt',\n",
      "               'KB_JB838_1967-07-13_01-00012.txt',\n",
      "               'KB_JB838_1967-07-23_01-00011.txt',\n",
      "               'KB_JB838_1967-07-25_01-00002.txt',\n",
      "               'KB_JB838_1967-08-02_01-00005.txt',\n",
      "               'KB_JB838_1967-08-12_01-00004.txt',\n",
      "               'KB_JB838_1967-08-17_01-00012.txt',\n",
      "               'KB_JB838_1967-08-20_01-00028.txt',\n",
      "               'KB_JB838_1967-08-22_01-00018.txt',\n",
      "               'KB_JB838_1967-08-27_01-00001.txt',\n",
      "               'KB_JB838_1967-09-02_01-00001.txt',\n",
      "               'KB_JB838_1967-09-09_01-00002.txt',\n",
      "               'KB_JB838_1967-09-14_01-00003.txt',\n",
      "               'KB_JB838_1967-09-14_01-00006.txt',\n",
      "               'KB_JB838_1967-09-16_01-00005.txt',\n",
      "               'KB_JB838_1967-09-26_01-00007.txt',\n",
      "               'KB_JB838_1967-09-27_01-00012.txt',\n",
      "               'KB_JB838_1967-09-27_01-00013.txt',\n",
      "               'KB_JB838_1967-10-05_01-00013.txt',\n",
      "               'KB_JB838_1967-10-07_01-00008.txt',\n",
      "               'KB_JB838_1967-10-19_01-00007.txt',\n",
      "               'KB_JB838_1967-10-19_01-00018.txt',\n",
      "               'KB_JB838_1967-10-28_01-00007.txt',\n",
      "               'KB_JB838_1967-11-03_01-00011.txt',\n",
      "               'KB_JB838_1967-11-11_01-00006.txt',\n",
      "               'KB_JB838_1967-11-11_01-00007.txt',\n",
      "               'KB_JB838_1967-12-10_01-00015.txt',\n",
      "               'KB_JB838_1967-12-13_01-00006.txt',\n",
      "               'KB_JB838_1967-12-20_01-00008.txt',\n",
      "               'KB_JB838_1967-12-26_01-00009.txt',\n",
      "               'KB_JB838_1968-01-07_01-00007.txt',\n",
      "               'KB_JB838_1968-01-09_01-00020.txt',\n",
      "               'KB_JB838_1968-01-21_01-00002.txt',\n",
      "               'KB_JB838_1968-02-03_01-00012.txt',\n",
      "               'KB_JB838_1968-02-06_01-00011.txt',\n",
      "               'KB_JB838_1968-02-08_01-00008.txt',\n",
      "               'KB_JB838_1968-02-10_01-00006.txt',\n",
      "               'KB_JB838_1968-02-10_01-00011.txt',\n",
      "               'KB_JB838_1968-02-11_01-00013.txt',\n",
      "               'KB_JB838_1968-02-13_01-00002.txt',\n",
      "               'KB_JB838_1968-02-14_01-00012.txt',\n",
      "               'KB_JB838_1968-02-29_01-00011.txt',\n",
      "               'KB_JB838_1968-03-05_01-00009.txt',\n",
      "               'KB_JB838_1968-03-14_01-00010.txt',\n",
      "               'KB_JB838_1968-03-20_01-00004.txt',\n",
      "               'KB_JB838_1968-03-28_01-00004.txt',\n",
      "               'KB_JB838_1968-03-30_01-00012.txt',\n",
      "               'KB_JB838_1968-05-14_01-00004.txt',\n",
      "               'KB_JB838_1968-05-15_01-00005.txt',\n",
      "               'KB_JB838_1968-05-17_01-00013.txt',\n",
      "               'KB_JB838_1968-05-18_01-00011.txt',\n",
      "               'KB_JB838_1968-05-25_01-00012.txt',\n",
      "               'KB_JB838_1968-06-14_01-00006.txt',\n",
      "               'KB_JB838_1968-06-15_01-00005.txt',\n",
      "               'KB_JB838_1968-06-25_01-00003.txt',\n",
      "               'KB_JB838_1968-06-30_01-00017.txt',\n",
      "               'KB_JB838_1968-07-10_01-00022.txt',\n",
      "               'KB_JB838_1968-07-30_01-00012.txt',\n",
      "               'KB_JB838_1968-08-04_01-00012.txt',\n",
      "               'KB_JB838_1968-08-11_01-00006.txt',\n",
      "               'KB_JB838_1968-08-20_01-00010.txt',\n",
      "               'KB_JB838_1968-08-25_01-00002.txt',\n",
      "               'KB_JB838_1968-09-05_01-00005.txt',\n",
      "               'KB_JB838_1968-09-13_01-00010.txt',\n",
      "               'KB_JB838_1968-09-27_01-00007.txt',\n",
      "               'KB_JB838_1968-10-01_01-00006.txt',\n",
      "               'KB_JB838_1968-10-11_01-00002.txt',\n",
      "               'KB_JB838_1968-10-18_01-00010.txt',\n",
      "               'KB_JB838_1968-10-19_01-00018.txt',\n",
      "               'KB_JB838_1968-10-22_01-00004.txt',\n",
      "               'KB_JB838_1968-10-25_01-00005.txt',\n",
      "               'KB_JB838_1968-10-27_01-00018.txt',\n",
      "               'KB_JB838_1968-10-30_01-00005.txt',\n",
      "               'KB_JB838_1968-11-09_01-00004.txt',\n",
      "               'KB_JB838_1968-11-12_01-00002.txt',\n",
      "               'KB_JB838_1968-11-20_01-00001.txt',\n",
      "               'KB_JB838_1968-11-23_01-00014.txt',\n",
      "               'KB_JB838_1968-12-06_01-00011.txt',\n",
      "               'KB_JB838_1968-12-07_01-00018.txt',\n",
      "               'KB_JB838_1968-12-14_01-00027.txt',\n",
      "               'KB_JB838_1968-12-15_01-00007.txt',\n",
      "               'KB_JB838_1968-12-17_01-00002.txt',\n",
      "               'KB_JB838_1968-12-25_01-00010.txt',\n",
      "               'KB_JB838_1969-01-05_01-00012.txt',\n",
      "               'KB_JB838_1969-01-11_01-00010.txt',\n",
      "               'KB_JB838_1969-01-22_01-00015.txt',\n",
      "               'KB_JB838_1969-02-09_01-00007.txt',\n",
      "               'KB_JB838_1969-02-22_01-00011.txt',\n",
      "               'KB_JB838_1969-02-27_01-00032.txt',\n",
      "               'KB_JB838_1969-03-02_01-00005.txt',\n",
      "               'KB_JB838_1969-03-02_01-00018.txt',\n",
      "               'KB_JB838_1969-03-11_01-00003.txt',\n",
      "               'KB_JB838_1969-03-18_01-00014.txt',\n",
      "               'KB_JB838_1969-03-19_01-00003.txt',\n",
      "               'KB_JB838_1969-03-28_01-00005.txt',\n",
      "               'KB_JB838_1969-04-01_01-00007.txt',\n",
      "               'KB_JB838_1969-04-02_01-00014.txt',\n",
      "               'KB_JB838_1969-04-03_01-00034.txt',\n",
      "               'KB_JB838_1969-04-08_01-00014.txt',\n",
      "               'KB_JB838_1969-04-10_01-00006.txt',\n",
      "               'KB_JB838_1969-04-10_01-00009.txt',\n",
      "               'KB_JB838_1969-04-12_01-00007.txt',\n",
      "               'KB_JB838_1969-04-13_01-00013.txt',\n",
      "               'KB_JB838_1969-04-27_01-00011.txt',\n",
      "               'KB_JB838_1969-04-29_01-00007.txt',\n",
      "               'KB_JB838_1969-04-29_01-00016.txt',\n",
      "               'KB_JB838_1969-05-22_01-00017.txt',\n",
      "               'KB_JB838_1969-05-29_01-00013.txt',\n",
      "               'KB_JB838_1969-06-19_01-00007.txt',\n",
      "               'KB_JB838_1969-06-26_01-00012.txt',\n",
      "               'KB_JB838_1969-06-26_01-00014.txt',\n",
      "               'KB_JB838_1969-07-20_01-00005.txt',\n",
      "               'KB_JB838_1969-08-02_01-00007.txt',\n",
      "               'KB_JB838_1969-09-11_01-00007.txt',\n",
      "               'KB_JB838_1969-09-11_01-00010.txt',\n",
      "               'KB_JB838_1969-09-26_01-00010.txt',\n",
      "               'KB_JB838_1969-10-01_01-00028.txt',\n",
      "               'KB_JB838_1969-10-02_01-00009.txt',\n",
      "               'KB_JB838_1969-10-19_01-00011.txt',\n",
      "               'KB_JB838_1969-10-26_01-00011.txt',\n",
      "               'KB_JB838_1969-10-28_01-00008.txt',\n",
      "               'KB_JB838_1969-10-29_01-00001.txt',\n",
      "               'KB_JB838_1969-10-30_01-00013.txt',\n",
      "               'KB_JB838_1969-11-04_01-00014.txt',\n",
      "               'KB_JB838_1969-11-06_01-00013.txt',\n",
      "               'KB_JB838_1969-11-21_01-00010.txt',\n",
      "               'KB_JB838_1969-11-29_01-00012.txt',\n",
      "               'KB_JB838_1969-12-07_01-00008.txt',\n",
      "               'KB_JB838_1969-12-17_01-00002.txt',\n",
      "               'KB_JB838_1969-12-20_01-00003.txt'],\n",
      " np.int32(3): ['KB_JB838_1960-02-03_01-00019.txt',\n",
      "               'KB_JB838_1960-02-13_01-00020.txt',\n",
      "               'KB_JB838_1960-03-11_01-00020.txt',\n",
      "               'KB_JB838_1960-03-25_01-00020.txt',\n",
      "               'KB_JB838_1960-04-01_01-00020.txt',\n",
      "               'KB_JB838_1960-07-06_01-00020.txt',\n",
      "               'KB_JB838_1960-08-04_01-00018.txt',\n",
      "               'KB_JB838_1960-08-13_01-00016.txt',\n",
      "               'KB_JB838_1960-09-18_01-00020.txt',\n",
      "               'KB_JB838_1960-10-28_01-00020.txt',\n",
      "               'KB_JB838_1960-11-04_01-00019.txt',\n",
      "               'KB_JB838_1960-11-25_01-00020.txt',\n",
      "               'KB_JB838_1960-12-10_01-00019.txt',\n",
      "               'KB_JB838_1961-02-02_01-00019.txt',\n",
      "               'KB_JB838_1961-03-23_01-00020.txt',\n",
      "               'KB_JB838_1961-05-13_01-00018.txt',\n",
      "               'KB_JB838_1961-06-23_01-00019.txt',\n",
      "               'KB_JB838_1961-07-11_01-00018.txt',\n",
      "               'KB_JB838_1961-07-29_01-00017.txt',\n",
      "               'KB_JB838_1961-10-21_01-00018.txt',\n",
      "               'KB_JB838_1962-01-16_01-00018.txt',\n",
      "               'KB_JB838_1962-02-01_01-00018.txt',\n",
      "               'KB_JB838_1962-02-25_01-00024.txt',\n",
      "               'KB_JB838_1962-04-21_01-00022.txt',\n",
      "               'KB_JB838_1962-06-27_01-00021.txt',\n",
      "               'KB_JB838_1962-10-31_01-00019.txt',\n",
      "               'KB_JB838_1962-12-22_01-00024.txt',\n",
      "               'KB_JB838_1963-04-21_01-00027.txt',\n",
      "               'KB_JB838_1963-04-28_01-00029.txt',\n",
      "               'KB_JB838_1963-09-04_01-00020.txt',\n",
      "               'KB_JB838_1963-09-06_01-00021.txt',\n",
      "               'KB_JB838_1963-09-08_01-00026.txt',\n",
      "               'KB_JB838_1963-10-01_01-00022.txt',\n",
      "               'KB_JB838_1963-10-13_01-00028.txt',\n",
      "               'KB_JB838_1963-10-27_01-00028.txt',\n",
      "               'KB_JB838_1963-11-17_01-00027.txt',\n",
      "               'KB_JB838_1964-07-24_01-00016.txt',\n",
      "               'KB_JB838_1964-09-25_01-00023.txt',\n",
      "               'KB_JB838_1964-12-01_01-00022.txt',\n",
      "               'KB_JB838_1965-04-23_01-00023.txt',\n",
      "               'KB_JB838_1965-05-11_01-00023.txt',\n",
      "               'KB_JB838_1965-08-08_01-00025.txt',\n",
      "               'KB_JB838_1965-09-12_01-00030.txt',\n",
      "               'KB_JB838_1965-11-23_01-00021.txt',\n",
      "               'KB_JB838_1966-01-22_01-00023.txt',\n",
      "               'KB_JB838_1966-03-01_01-00020.txt',\n",
      "               'KB_JB838_1966-03-25_01-00026.txt',\n",
      "               'KB_JB838_1966-05-24_01-00023.txt',\n",
      "               'KB_JB838_1966-06-18_01-00028.txt',\n",
      "               'KB_JB838_1966-09-02_01-00021.txt',\n",
      "               'KB_JB838_1966-09-16_01-00023.txt',\n",
      "               'KB_JB838_1966-09-27_01-00021.txt',\n",
      "               'KB_JB838_1966-09-29_01-00026.txt',\n",
      "               'KB_JB838_1966-10-04_01-00018.txt',\n",
      "               'KB_JB838_1966-10-18_01-00024.txt',\n",
      "               'KB_JB838_1966-10-20_01-00024.txt',\n",
      "               'KB_JB838_1966-12-15_01-00027.txt',\n",
      "               'KB_JB838_1967-01-13_01-00018.txt',\n",
      "               'KB_JB838_1967-01-14_01-00027.txt',\n",
      "               'KB_JB838_1967-05-19_01-00022.txt',\n",
      "               'KB_JB838_1967-06-14_01-00021.txt',\n",
      "               'KB_JB838_1967-07-08_01-00022.txt',\n",
      "               'KB_JB838_1967-09-13_01-00022.txt',\n",
      "               'KB_JB838_1967-09-27_01-00023.txt',\n",
      "               'KB_JB838_1967-10-17_01-00022.txt',\n",
      "               'KB_JB838_1967-11-12_01-00033.txt',\n",
      "               'KB_JB838_1968-02-22_01-00023.txt',\n",
      "               'KB_JB838_1968-03-06_01-00019.txt',\n",
      "               'KB_JB838_1968-09-25_01-00024.txt',\n",
      "               'KB_JB838_1968-09-28_01-00031.txt',\n",
      "               'KB_JB838_1968-09-28_01-00032.txt',\n",
      "               'KB_JB838_1968-11-30_01-00029.txt',\n",
      "               'KB_JB838_1968-12-05_01-00026.txt',\n",
      "               'KB_JB838_1968-12-22_01-00033.txt',\n",
      "               'KB_JB838_1969-02-05_01-00021.txt',\n",
      "               'KB_JB838_1969-04-02_01-00021.txt',\n",
      "               'KB_JB838_1969-04-18_01-00025.txt',\n",
      "               'KB_JB838_1969-05-29_01-00029.txt',\n",
      "               'KB_JB838_1969-05-30_01-00025.txt',\n",
      "               'KB_JB838_1969-06-12_01-00029.txt',\n",
      "               'KB_JB838_1969-08-14_01-00024.txt',\n",
      "               'KB_JB838_1969-09-05_01-00024.txt',\n",
      "               'KB_JB838_1969-10-24_01-00026.txt',\n",
      "               'KB_JB838_1969-10-26_01-00038.txt',\n",
      "               'KB_JB838_1969-11-21_01-00024.txt',\n",
      "               'KB_JB838_1969-11-22_01-00033.txt'],\n",
      " np.int32(4): ['KB_JB838_1960-01-21_01-00014.txt',\n",
      "               'KB_JB838_1960-01-22_01-00015.txt',\n",
      "               'KB_JB838_1960-02-24_01-00020.txt',\n",
      "               'KB_JB838_1960-03-11_01-00022.txt',\n",
      "               'KB_JB838_1960-04-01_01-00022.txt',\n",
      "               'KB_JB838_1960-04-05_01-00016.txt',\n",
      "               'KB_JB838_1960-04-06_01-00023.txt',\n",
      "               'KB_JB838_1960-04-13_01-00017.txt',\n",
      "               'KB_JB838_1960-04-14_01-00016.txt',\n",
      "               'KB_JB838_1960-04-20_01-00016.txt',\n",
      "               'KB_JB838_1960-05-28_01-00021.txt',\n",
      "               'KB_JB838_1960-07-14_01-00015.txt',\n",
      "               'KB_JB838_1960-08-25_01-00021.txt',\n",
      "               'KB_JB838_1960-10-28_01-00014.txt',\n",
      "               'KB_JB838_1960-11-15_01-00016.txt',\n",
      "               'KB_JB838_1960-11-16_01-00022.txt',\n",
      "               'KB_JB838_1960-11-18_01-00017.txt',\n",
      "               'KB_JB838_1961-01-05_01-00016.txt',\n",
      "               'KB_JB838_1961-01-18_01-00023.txt',\n",
      "               'KB_JB838_1961-02-11_01-00023.txt',\n",
      "               'KB_JB838_1961-02-16_01-00015.txt',\n",
      "               'KB_JB838_1961-03-02_01-00016.txt',\n",
      "               'KB_JB838_1961-03-25_01-00012.txt',\n",
      "               'KB_JB838_1961-04-14_01-00015.txt',\n",
      "               'KB_JB838_1961-04-15_01-00016.txt',\n",
      "               'KB_JB838_1961-04-15_01-00020.txt',\n",
      "               'KB_JB838_1961-04-20_01-00022.txt',\n",
      "               'KB_JB838_1961-04-29_01-00022.txt',\n",
      "               'KB_JB838_1961-05-03_01-00024.txt',\n",
      "               'KB_JB838_1961-05-25_01-00023.txt',\n",
      "               'KB_JB838_1961-06-04_01-00017.txt',\n",
      "               'KB_JB838_1961-07-18_01-00019.txt',\n",
      "               'KB_JB838_1961-08-02_01-00017.txt',\n",
      "               'KB_JB838_1961-08-06_01-00014.txt',\n",
      "               'KB_JB838_1961-08-06_01-00016.txt',\n",
      "               'KB_JB838_1961-09-08_01-00015.txt',\n",
      "               'KB_JB838_1961-09-22_01-00023.txt',\n",
      "               'KB_JB838_1961-10-29_01-00026.txt',\n",
      "               'KB_JB838_1961-11-04_01-00013.txt',\n",
      "               'KB_JB838_1961-11-09_01-00016.txt',\n",
      "               'KB_JB838_1961-11-14_01-00020.txt',\n",
      "               'KB_JB838_1961-11-15_01-00024.txt',\n",
      "               'KB_JB838_1961-11-19_01-00022.txt',\n",
      "               'KB_JB838_1961-11-24_01-00018.txt',\n",
      "               'KB_JB838_1961-11-29_01-00023.txt',\n",
      "               'KB_JB838_1961-12-30_01-00015.txt',\n",
      "               'KB_JB838_1962-01-21_01-00027.txt',\n",
      "               'KB_JB838_1962-03-16_01-00016.txt',\n",
      "               'KB_JB838_1962-03-22_01-00023.txt',\n",
      "               'KB_JB838_1962-03-27_01-00013.txt',\n",
      "               'KB_JB838_1962-04-04_01-00021.txt',\n",
      "               'KB_JB838_1962-04-05_01-00025.txt',\n",
      "               'KB_JB838_1962-04-10_01-00021.txt',\n",
      "               'KB_JB838_1962-04-15_01-00021.txt',\n",
      "               'KB_JB838_1962-04-22_01-00017.txt',\n",
      "               'KB_JB838_1962-05-09_01-00017.txt',\n",
      "               'KB_JB838_1962-05-20_01-00019.txt',\n",
      "               'KB_JB838_1962-05-22_01-00011.txt',\n",
      "               'KB_JB838_1962-06-24_01-00021.txt',\n",
      "               'KB_JB838_1962-06-24_01-00031.txt',\n",
      "               'KB_JB838_1962-06-30_01-00018.txt',\n",
      "               'KB_JB838_1962-07-28_01-00015.txt',\n",
      "               'KB_JB838_1962-08-25_01-00021.txt',\n",
      "               'KB_JB838_1962-09-06_01-00023.txt',\n",
      "               'KB_JB838_1962-09-13_01-00016.txt',\n",
      "               'KB_JB838_1962-09-28_01-00016.txt',\n",
      "               'KB_JB838_1962-10-17_01-00015.txt',\n",
      "               'KB_JB838_1962-11-03_01-00025.txt',\n",
      "               'KB_JB838_1962-11-10_01-00020.txt',\n",
      "               'KB_JB838_1962-12-09_01-00018.txt',\n",
      "               'KB_JB838_1962-12-23_01-00027.txt',\n",
      "               'KB_JB838_1963-01-22_01-00015.txt',\n",
      "               'KB_JB838_1963-01-24_01-00013.txt',\n",
      "               'KB_JB838_1963-01-24_01-00019.txt',\n",
      "               'KB_JB838_1963-02-06_01-00021.txt',\n",
      "               'KB_JB838_1963-03-13_01-00015.txt',\n",
      "               'KB_JB838_1963-04-05_01-00019.txt',\n",
      "               'KB_JB838_1963-05-02_01-00018.txt',\n",
      "               'KB_JB838_1963-05-18_01-00020.txt',\n",
      "               'KB_JB838_1963-05-28_01-00021.txt',\n",
      "               'KB_JB838_1963-06-09_01-00020.txt',\n",
      "               'KB_JB838_1963-06-09_01-00029.txt',\n",
      "               'KB_JB838_1963-07-14_01-00017.txt',\n",
      "               'KB_JB838_1963-07-18_01-00015.txt',\n",
      "               'KB_JB838_1963-09-07_01-00015.txt',\n",
      "               'KB_JB838_1963-10-16_01-00024.txt',\n",
      "               'KB_JB838_1963-11-07_01-00026.txt',\n",
      "               'KB_JB838_1963-12-04_01-00016.txt',\n",
      "               'KB_JB838_1963-12-13_01-00016.txt',\n",
      "               'KB_JB838_1963-12-27_01-00016.txt',\n",
      "               'KB_JB838_1964-01-04_01-00025.txt',\n",
      "               'KB_JB838_1964-01-18_01-00018.txt',\n",
      "               'KB_JB838_1964-01-29_01-00015.txt',\n",
      "               'KB_JB838_1964-05-14_01-00015.txt',\n",
      "               'KB_JB838_1964-05-28_01-00027.txt',\n",
      "               'KB_JB838_1964-06-04_01-00015.txt',\n",
      "               'KB_JB838_1964-06-16_01-00013.txt',\n",
      "               'KB_JB838_1964-06-17_01-00023.txt',\n",
      "               'KB_JB838_1964-06-24_01-00022.txt',\n",
      "               'KB_JB838_1964-06-26_01-00023.txt',\n",
      "               'KB_JB838_1964-06-27_01-00019.txt',\n",
      "               'KB_JB838_1964-09-08_01-00014.txt',\n",
      "               'KB_JB838_1964-09-09_01-00016.txt',\n",
      "               'KB_JB838_1964-09-16_01-00024.txt',\n",
      "               'KB_JB838_1964-10-03_01-00031.txt',\n",
      "               'KB_JB838_1964-10-10_01-00019.txt',\n",
      "               'KB_JB838_1964-10-10_01-00020.txt',\n",
      "               'KB_JB838_1964-10-17_01-00030.txt',\n",
      "               'KB_JB838_1964-10-30_01-00020.txt',\n",
      "               'KB_JB838_1964-11-06_01-00017.txt',\n",
      "               'KB_JB838_1964-11-27_01-00025.txt',\n",
      "               'KB_JB838_1965-02-19_01-00014.txt',\n",
      "               'KB_JB838_1965-05-11_01-00016.txt',\n",
      "               'KB_JB838_1965-05-11_01-00025.txt',\n",
      "               'KB_JB838_1965-05-26_01-00017.txt',\n",
      "               'KB_JB838_1965-06-02_01-00019.txt',\n",
      "               'KB_JB838_1965-06-05_01-00029.txt',\n",
      "               'KB_JB838_1965-06-11_01-00015.txt',\n",
      "               'KB_JB838_1965-06-19_01-00027.txt',\n",
      "               'KB_JB838_1965-07-09_01-00015.txt',\n",
      "               'KB_JB838_1965-07-11_01-00029.txt',\n",
      "               'KB_JB838_1965-08-15_01-00016.txt',\n",
      "               'KB_JB838_1965-09-02_01-00018.txt',\n",
      "               'KB_JB838_1965-11-24_01-00016.txt',\n",
      "               'KB_JB838_1965-12-04_01-00020.txt',\n",
      "               'KB_JB838_1965-12-10_01-00023.txt',\n",
      "               'KB_JB838_1966-01-25_01-00013.txt',\n",
      "               'KB_JB838_1966-02-12_01-00019.txt',\n",
      "               'KB_JB838_1966-03-25_01-00021.txt',\n",
      "               'KB_JB838_1966-04-14_01-00016.txt',\n",
      "               'KB_JB838_1966-04-16_01-00017.txt',\n",
      "               'KB_JB838_1966-04-21_01-00030.txt',\n",
      "               'KB_JB838_1966-05-21_01-00028.txt',\n",
      "               'KB_JB838_1966-06-08_01-00026.txt',\n",
      "               'KB_JB838_1966-06-22_01-00025.txt',\n",
      "               'KB_JB838_1966-06-25_01-00021.txt',\n",
      "               'KB_JB838_1966-07-12_01-00017.txt',\n",
      "               'KB_JB838_1966-07-29_01-00019.txt',\n",
      "               'KB_JB838_1966-09-07_01-00021.txt',\n",
      "               'KB_JB838_1966-09-17_01-00019.txt',\n",
      "               'KB_JB838_1966-10-09_01-00030.txt',\n",
      "               'KB_JB838_1966-10-25_01-00013.txt',\n",
      "               'KB_JB838_1966-11-01_01-00014.txt',\n",
      "               'KB_JB838_1966-11-19_01-00017.txt',\n",
      "               'KB_JB838_1966-12-20_01-00023.txt',\n",
      "               'KB_JB838_1966-12-31_01-00016.txt',\n",
      "               'KB_JB838_1967-03-09_01-00018.txt',\n",
      "               'KB_JB838_1967-03-14_01-00017.txt',\n",
      "               'KB_JB838_1967-04-01_01-00020.txt',\n",
      "               'KB_JB838_1967-05-18_01-00017.txt',\n",
      "               'KB_JB838_1967-05-23_01-00018.txt',\n",
      "               'KB_JB838_1967-07-19_01-00020.txt',\n",
      "               'KB_JB838_1967-07-29_01-00018.txt',\n",
      "               'KB_JB838_1967-08-23_01-00017.txt',\n",
      "               'KB_JB838_1967-08-31_01-00016.txt',\n",
      "               'KB_JB838_1967-09-16_01-00020.txt',\n",
      "               'KB_JB838_1967-09-27_01-00018.txt',\n",
      "               'KB_JB838_1967-10-11_01-00025.txt',\n",
      "               'KB_JB838_1967-12-10_01-00035.txt',\n",
      "               'KB_JB838_1968-01-13_01-00021.txt',\n",
      "               'KB_JB838_1968-01-25_01-00026.txt',\n",
      "               'KB_JB838_1968-02-08_01-00025.txt',\n",
      "               'KB_JB838_1968-02-15_01-00027.txt',\n",
      "               'KB_JB838_1968-02-29_01-00022.txt',\n",
      "               'KB_JB838_1968-03-03_01-00022.txt',\n",
      "               'KB_JB838_1968-03-15_01-00019.txt',\n",
      "               'KB_JB838_1968-03-17_01-00022.txt',\n",
      "               'KB_JB838_1968-05-17_01-00023.txt',\n",
      "               'KB_JB838_1968-06-06_01-00016.txt',\n",
      "               'KB_JB838_1968-06-06_01-00020.txt',\n",
      "               'KB_JB838_1968-06-12_01-00019.txt',\n",
      "               'KB_JB838_1968-08-22_01-00020.txt',\n",
      "               'KB_JB838_1968-08-22_01-00021.txt',\n",
      "               'KB_JB838_1968-09-15_01-00022.txt',\n",
      "               'KB_JB838_1968-10-11_01-00018.txt',\n",
      "               'KB_JB838_1968-10-19_01-00025.txt',\n",
      "               'KB_JB838_1968-10-19_01-00026.txt',\n",
      "               'KB_JB838_1968-10-29_01-00024.txt',\n",
      "               'KB_JB838_1968-11-28_01-00018.txt',\n",
      "               'KB_JB838_1968-12-01_01-00022.txt',\n",
      "               'KB_JB838_1968-12-04_01-00018.txt',\n",
      "               'KB_JB838_1969-01-15_01-00017.txt',\n",
      "               'KB_JB838_1969-03-01_01-00023.txt',\n",
      "               'KB_JB838_1969-03-22_01-00018.txt',\n",
      "               'KB_JB838_1969-04-01_01-00018.txt',\n",
      "               'KB_JB838_1969-04-09_01-00026.txt',\n",
      "               'KB_JB838_1969-04-11_01-00019.txt',\n",
      "               'KB_JB838_1969-04-13_01-00023.txt',\n",
      "               'KB_JB838_1969-04-22_01-00021.txt',\n",
      "               'KB_JB838_1969-04-30_01-00018.txt',\n",
      "               'KB_JB838_1969-05-31_01-00020.txt',\n",
      "               'KB_JB838_1969-07-12_01-00020.txt',\n",
      "               'KB_JB838_1969-08-09_01-00016.txt',\n",
      "               'KB_JB838_1969-08-10_01-00017.txt',\n",
      "               'KB_JB838_1969-10-15_01-00019.txt',\n",
      "               'KB_JB838_1969-10-15_01-00020.txt',\n",
      "               'KB_JB838_1969-10-17_01-00020.txt',\n",
      "               'KB_JB838_1969-10-24_01-00029.txt',\n",
      "               'KB_JB838_1969-11-04_01-00019.txt']}\n"
     ]
    }
   ],
   "source": [
    "pprint(dict(clustering))"
   ]
  },
  {
   "cell_type": "markdown",
   "metadata": {},
   "source": [
    "## Visualiser les clusters"
   ]
  },
  {
   "cell_type": "markdown",
   "metadata": {},
   "source": [
    "### Réduire les vecteurs à 2 dimensions à l'aide de l'algorithme PCA\n",
    "Cette étape est nécessaire afin de visualiser les documents dans un espace 2D\n",
    "\n",
    "https://fr.wikipedia.org/wiki/Analyse_en_composantes_principales"
   ]
  },
  {
   "cell_type": "code",
   "execution_count": 109,
   "metadata": {},
   "outputs": [],
   "source": [
    "pca = PCA(n_components=2)\n",
    "reduced_vectors = pca.fit_transform(tfidf_vectors.toarray())"
   ]
  },
  {
   "cell_type": "code",
   "execution_count": 110,
   "metadata": {},
   "outputs": [
    {
     "data": {
      "text/plain": [
       "array([[ 0.4992516 , -0.43941756],\n",
       "       [-0.22887339,  0.00137504],\n",
       "       [-0.27929012, -0.01571175],\n",
       "       [ 0.28623276,  0.51679184],\n",
       "       [ 0.3069986 ,  0.51868354],\n",
       "       [-0.28969465, -0.09047481],\n",
       "       [-0.04744473,  0.04053176],\n",
       "       [-0.06063925,  0.11980049],\n",
       "       [-0.22347725, -0.05224724],\n",
       "       [-0.12166066,  0.07459225]])"
      ]
     },
     "execution_count": 110,
     "metadata": {},
     "output_type": "execute_result"
    }
   ],
   "source": [
    "reduced_vectors[:10]"
   ]
  },
  {
   "cell_type": "markdown",
   "metadata": {},
   "source": [
    "### Générer le plot"
   ]
  },
  {
   "cell_type": "code",
   "execution_count": 111,
   "metadata": {},
   "outputs": [
    {
     "data": {
      "text/plain": [
       "<matplotlib.legend.Legend at 0x12cecde80>"
      ]
     },
     "execution_count": 111,
     "metadata": {},
     "output_type": "execute_result"
    },
    {
     "data": {
      "image/png": "[encoded data removed]",
      "text/plain": [
       "<Figure size 1000x1000 with 1 Axes>"
      ]
     },
     "metadata": {},
     "output_type": "display_data"
    }
   ],
   "source": [
    "x_axis = reduced_vectors[:, 0]\n",
    "y_axis = reduced_vectors[:, 1]\n",
    "\n",
    "plt.figure(figsize=(10,10))\n",
    "scatter = plt.scatter(x_axis, y_axis, s=100, c=clusters)\n",
    "\n",
    "# Ajouter les centroïdes\n",
    "centroids = pca.transform(km_model.cluster_centers_)\n",
    "plt.scatter(centroids[:, 0], centroids[:, 1],  marker = \"x\", s=100, linewidths = 2, color='black')\n",
    "\n",
    "# Ajouter la légende\n",
    "plt.legend(handles=scatter.legend_elements()[0], labels=set(clusters), title=\"Clusters\")"
   ]
  },
  {
   "cell_type": "markdown",
   "metadata": {},
   "source": [
    "### 3. Interprétation des résultats\n",
    "Bien que tous les clusters ne représentent pas le même nombre de documents, nous pouvons remarquer que le nombre de documents dans les 3 premiers clusters est assez proche. Cependant, le cluster 4 s’éloigne du nombre de documents des trois premiers clusters.\n",
    "Et enfin le cluster 5 est celui regroupant le plus grand nombre de documents. En effet, il regroupe presque la moitié de tous les documents. De manière générale, nous pouvons dire que les 5 clusters sont assez bien distincts les uns des autres. \n",
    "\n",
    "Les clusters sont bien séparés, ce qui montre que le modèle a capturé les thématiques principales de manière cohérente."
   ]
  },
  {
   "cell_type": "markdown",
   "metadata": {},
   "source": [
    "### 4. Téléchargement et préparation du fichier sents.txt\n",
    "Le fichier sents.txt a été téléchargé et placé dans le dossier data/. Ce fichier contient des phrases segmentées, prêtes pour l'entraînement du modèle Word2Vec."
   ]
  },
  {
   "cell_type": "markdown",
   "metadata": {},
   "source": [
    "### 5. Entraîner un modèle Word2Vec\n",
    "J'ai utilisé le fichier sents.txt pour entraîner un modèle Word2Vec en utilisant le notebook s3_word_embeddings.ipynb."
   ]
  },
  {
   "cell_type": "code",
   "execution_count": 118,
   "metadata": {},
   "outputs": [
    {
     "ename": "ModuleNotFoundError",
     "evalue": "No module named 'gensim'",
     "output_type": "error",
     "traceback": [
      "\u001b[0;31m---------------------------------------------------------------------------\u001b[0m",
      "\u001b[0;31mModuleNotFoundError\u001b[0m                       Traceback (most recent call last)",
      "Cell \u001b[0;32mIn[118], line 1\u001b[0m\n\u001b[0;32m----> 1\u001b[0m \u001b[38;5;28;01mfrom\u001b[39;00m \u001b[38;5;21;01mgensim\u001b[39;00m\u001b[38;5;21;01m.\u001b[39;00m\u001b[38;5;21;01mmodels\u001b[39;00m\u001b[38;5;21;01m.\u001b[39;00m\u001b[38;5;21;01mphrases\u001b[39;00m \u001b[38;5;28;01mimport\u001b[39;00m Phrases, Phraser\n\u001b[1;32m      2\u001b[0m \u001b[38;5;28;01mfrom\u001b[39;00m \u001b[38;5;21;01mgensim\u001b[39;00m\u001b[38;5;21;01m.\u001b[39;00m\u001b[38;5;21;01mmodels\u001b[39;00m \u001b[38;5;28;01mimport\u001b[39;00m Word2Vec\n\u001b[1;32m      3\u001b[0m \u001b[38;5;28;01mimport\u001b[39;00m \u001b[38;5;21;01mnltk\u001b[39;00m\n",
      "\u001b[0;31mModuleNotFoundError\u001b[0m: No module named 'gensim'"
     ]
    }
   ],
   "source": [
    "from gensim.models.phrases import Phrases, Phraser\n",
    "from gensim.models import Word2Vec\n",
    "import nltk\n",
    "from nltk.tokenize import wordpunct_tokenize\n",
    "from unidecode import unidecode\n",
    "\n",
    "nltk.download('punkt')\n",
    "\n",
    "# Charger et traiter les phrases du corpus\n",
    "class MySentences(object):\n",
    "    def __init__(self, filename):\n",
    "        self.filename = filename\n",
    "\n",
    "    def __iter__(self):\n",
    "        for line in open(self.filename, encoding='utf-8'):\n",
    "            yield [unidecode(w.lower()) for w in wordpunct_tokenize(line)]\n",
    "\n",
    "infile = \"../data/sents.txt\"\n",
    "sentences = MySentences(infile)\n",
    "\n",
    "# Détection des bigrams et trigrams\n",
    "bigram_phrases = Phrases(sentences)\n",
    "bigram_phraser = Phraser(bigram_phrases)\n",
    "trigram_phrases = Phrases(bigram_phraser[sentences])\n",
    "trigram_phraser = Phraser(trigram_phrases)\n",
    "corpus = list(trigram_phraser[bigram_phraser[sentences]])\n",
    "\n",
    "# Entraîner le modèle Word2Vec\n",
    "model = Word2Vec(corpus, vector_size=32, window=1, min_count=1, workers=4, epochs=5)\n",
    "model.save(\"../data/word2vec.model\")\n"
   ]
  },
  {
   "cell_type": "markdown",
   "metadata": {},
   "source": [
    "### 6. Comparaison des modèles\n",
    "\n"
   ]
  },
  {
   "cell_type": "code",
   "execution_count": 122,
   "metadata": {},
   "outputs": [
    {
     "ename": "SyntaxError",
     "evalue": "invalid syntax. Maybe you meant '==' or ':=' instead of '='? (1081722637.py, line 1)",
     "output_type": "error",
     "traceback": [
      "\u001b[0;36m  Cell \u001b[0;32mIn[122], line 1\u001b[0;36m\u001b[0m\n\u001b[0;31m    window = 5, min_count = 5 : Meilleur modèle, capture bien les relations contextuelles.\\n\",\u001b[0m\n\u001b[0m    ^\u001b[0m\n\u001b[0;31mSyntaxError\u001b[0m\u001b[0;31m:\u001b[0m invalid syntax. Maybe you meant '==' or ':=' instead of '='?\n"
     ]
    }
   ],
   "source": [
    "window = 10, min_count = 10 : Moins efficace, car cela peut entraîner l'ignorance de mots significatifs en raison du seuil élevé pour les occurrences minimales.\n",
    "window = 3, min_count = 1 : Trop bruité, car cela inclut un grand nombre de mots rares ou peu pertinents.\n",
    "   ]\n"
   ]
  },
  {
   "cell_type": "code",
   "execution_count": null,
   "metadata": {},
   "outputs": [],
   "source": []
  },
  {
   "cell_type": "markdown",
   "metadata": {},
   "source": []
  }
 ],
 "metadata": {
  "kernelspec": {
   "display_name": ".venv",
   "language": "python",
   "name": "python3"
  },
  "language_info": {
   "codemirror_mode": {
    "name": "ipython",
    "version": 3
   },
   "file_extension": ".py",
   "mimetype": "text/x-python",
   "name": "python",
   "nbconvert_exporter": "python",
   "pygments_lexer": "ipython3",
   "version": "3.13.0"
  }
 },
 "nbformat": 4,
 "nbformat_minor": 4
}
